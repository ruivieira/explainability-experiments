{
 "cells": [
  {
   "cell_type": "code",
   "execution_count": 88,
   "id": "distinct-watts",
   "metadata": {},
   "outputs": [],
   "source": [
    "from joblib import load\n",
    "from alibi.explainers import CounterFactual\n",
    "import pandas as pd\n",
    "import tensorflow as tf\n",
    "import numpy as np\n",
    "\n",
    "tf.compat.v1.disable_eager_execution()"
   ]
  },
  {
   "cell_type": "code",
   "execution_count": 89,
   "id": "collective-dynamics",
   "metadata": {},
   "outputs": [],
   "source": [
    "clf = load(\"models/model.joblib\")"
   ]
  },
  {
   "cell_type": "code",
   "execution_count": 90,
   "id": "moral-committee",
   "metadata": {},
   "outputs": [],
   "source": [
    "predict_fn = lambda x: clf.predict_proba(x)"
   ]
  },
  {
   "cell_type": "code",
   "execution_count": 91,
   "id": "backed-corporation",
   "metadata": {},
   "outputs": [
    {
     "name": "stdout",
     "output_type": "stream",
     "text": [
      "(1, 4)\n"
     ]
    }
   ],
   "source": [
    "shape = (1,4)\n",
    "print(shape)"
   ]
  },
  {
   "cell_type": "code",
   "execution_count": 92,
   "id": "industrial-hanging",
   "metadata": {},
   "outputs": [],
   "source": [
    "explainer = CounterFactual(predict_fn, shape=shape, target_class=1, target_proba=0.51, debug=True, write_dir=\".\", max_iter=300, lam_init=0.01, tol=0.1)"
   ]
  },
  {
   "cell_type": "code",
   "execution_count": 93,
   "id": "entitled-stocks",
   "metadata": {},
   "outputs": [
    {
     "data": {
      "text/plain": [
       "array([[ 21. ,   0.1,   0.1, 100. ]])"
      ]
     },
     "execution_count": 93,
     "metadata": {},
     "output_type": "execute_result"
    }
   ],
   "source": [
    "df = np.array([21.0, 0.1, 0.1, 100]).reshape(1, -1)\n",
    "df"
   ]
  },
  {
   "cell_type": "code",
   "execution_count": 94,
   "id": "quantitative-transmission",
   "metadata": {},
   "outputs": [
    {
     "name": "stdout",
     "output_type": "stream",
     "text": [
      "[[0.71 0.29]]\n",
      "[0]\n"
     ]
    }
   ],
   "source": [
    "print(predict_fn(df))\n",
    "print(clf.predict(df))"
   ]
  },
  {
   "cell_type": "code",
   "execution_count": 100,
   "id": "prescribed-satellite",
   "metadata": {},
   "outputs": [
    {
     "name": "stdout",
     "output_type": "stream",
     "text": [
      "49.9 s ± 2.7 s per loop (mean ± std. dev. of 5 runs, 5 loops each)\n"
     ]
    }
   ],
   "source": [
    "%timeit -r 5 -n 5 cf = explainer.explain(df)"
   ]
  },
  {
   "cell_type": "code",
   "execution_count": 99,
   "id": "instructional-trinity",
   "metadata": {},
   "outputs": [
    {
     "name": "stdout",
     "output_type": "stream",
     "text": [
      "[[2.1000000e+01 7.5534493e-02 1.9703722e-01 1.0000000e+02]]\n",
      "diff:  [[ 0.         -0.02446551  0.09703722  0.        ]]\n"
     ]
    }
   ],
   "source": [
    "print(cf.data['cf']['X'])\n",
    "print(\"diff: \", cf.data['cf']['X'] - df)"
   ]
  },
  {
   "cell_type": "code",
   "execution_count": 97,
   "id": "local-cleveland",
   "metadata": {},
   "outputs": [
    {
     "data": {
      "text/plain": [
       "array([[0.49, 0.51]])"
      ]
     },
     "execution_count": 97,
     "metadata": {},
     "output_type": "execute_result"
    }
   ],
   "source": [
    "predict_fn(cf.data['cf']['X'])"
   ]
  },
  {
   "cell_type": "code",
   "execution_count": null,
   "id": "palestinian-colony",
   "metadata": {},
   "outputs": [],
   "source": []
  }
 ],
 "metadata": {
  "kernelspec": {
   "display_name": "alibi",
   "language": "python",
   "name": "alibi"
  },
  "language_info": {
   "codemirror_mode": {
    "name": "ipython",
    "version": 3
   },
   "file_extension": ".py",
   "mimetype": "text/x-python",
   "name": "python",
   "nbconvert_exporter": "python",
   "pygments_lexer": "ipython3",
   "version": "3.8.0"
  }
 },
 "nbformat": 4,
 "nbformat_minor": 5
}
