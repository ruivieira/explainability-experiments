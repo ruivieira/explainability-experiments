{
 "cells": [
  {
   "cell_type": "markdown",
   "metadata": {},
   "source": [
    "# Counterfactual fairness"
   ]
  },
  {
   "cell_type": "markdown",
   "metadata": {},
   "source": [
    "## Data"
   ]
  },
  {
   "cell_type": "markdown",
   "metadata": {},
   "source": [
    "To evaluate _counterfactual fairness_ we will be using the \"law school\" dataset {cite}`mcintyre2018law`.\n",
    "\n",
    "The Law School Admission Council conducted a survey across 163 law schools in the United States. \n",
    "It contains information on 21,790 law students such as their entrance exam scores (`LSAT`), their\n",
    "grade-point average (`GPA`) collected prior to law school, and their first year average grade (`FYA`).\n",
    "Given this data, a school may wish to predict if an applicant will have a high `FYA`. The school would\n",
    "also like to make sure these predictions are not biased by an individual’s race and sex. \n",
    "However, the `LSAT`, `GPA`, and `FYA` scores, may be biased due to social factors.\n",
    "\n",
    "We start by importing the data into a Pandas `DataFrame`."
   ]
  },
  {
   "cell_type": "code",
   "execution_count": 1,
   "metadata": {},
   "outputs": [
    {
     "data": {
      "text/html": [
       "<div>\n",
       "<style scoped>\n",
       "    .dataframe tbody tr th:only-of-type {\n",
       "        vertical-align: middle;\n",
       "    }\n",
       "\n",
       "    .dataframe tbody tr th {\n",
       "        vertical-align: top;\n",
       "    }\n",
       "\n",
       "    .dataframe thead th {\n",
       "        text-align: right;\n",
       "    }\n",
       "</style>\n",
       "<table border=\"1\" class=\"dataframe\">\n",
       "  <thead>\n",
       "    <tr style=\"text-align: right;\">\n",
       "      <th></th>\n",
       "      <th>race</th>\n",
       "      <th>sex</th>\n",
       "      <th>LSAT</th>\n",
       "      <th>UGPA</th>\n",
       "      <th>region_first</th>\n",
       "      <th>ZFYA</th>\n",
       "      <th>sander_index</th>\n",
       "      <th>first_pf</th>\n",
       "    </tr>\n",
       "  </thead>\n",
       "  <tbody>\n",
       "    <tr>\n",
       "      <th>0</th>\n",
       "      <td>White</td>\n",
       "      <td>1</td>\n",
       "      <td>39.0</td>\n",
       "      <td>3.1</td>\n",
       "      <td>GL</td>\n",
       "      <td>-0.98</td>\n",
       "      <td>0.782738</td>\n",
       "      <td>1.0</td>\n",
       "    </tr>\n",
       "    <tr>\n",
       "      <th>1</th>\n",
       "      <td>White</td>\n",
       "      <td>1</td>\n",
       "      <td>36.0</td>\n",
       "      <td>3.0</td>\n",
       "      <td>GL</td>\n",
       "      <td>0.09</td>\n",
       "      <td>0.735714</td>\n",
       "      <td>1.0</td>\n",
       "    </tr>\n",
       "    <tr>\n",
       "      <th>2</th>\n",
       "      <td>White</td>\n",
       "      <td>2</td>\n",
       "      <td>30.0</td>\n",
       "      <td>3.1</td>\n",
       "      <td>MS</td>\n",
       "      <td>-0.35</td>\n",
       "      <td>0.670238</td>\n",
       "      <td>1.0</td>\n",
       "    </tr>\n",
       "    <tr>\n",
       "      <th>5</th>\n",
       "      <td>Hispanic</td>\n",
       "      <td>2</td>\n",
       "      <td>39.0</td>\n",
       "      <td>2.2</td>\n",
       "      <td>NE</td>\n",
       "      <td>0.58</td>\n",
       "      <td>0.697024</td>\n",
       "      <td>1.0</td>\n",
       "    </tr>\n",
       "    <tr>\n",
       "      <th>6</th>\n",
       "      <td>White</td>\n",
       "      <td>1</td>\n",
       "      <td>37.0</td>\n",
       "      <td>3.4</td>\n",
       "      <td>GL</td>\n",
       "      <td>-1.26</td>\n",
       "      <td>0.786310</td>\n",
       "      <td>1.0</td>\n",
       "    </tr>\n",
       "  </tbody>\n",
       "</table>\n",
       "</div>"
      ],
      "text/plain": [
       "       race  sex  LSAT  UGPA region_first  ZFYA  sander_index  first_pf\n",
       "0     White    1  39.0   3.1           GL -0.98      0.782738       1.0\n",
       "1     White    1  36.0   3.0           GL  0.09      0.735714       1.0\n",
       "2     White    2  30.0   3.1           MS -0.35      0.670238       1.0\n",
       "5  Hispanic    2  39.0   2.2           NE  0.58      0.697024       1.0\n",
       "6     White    1  37.0   3.4           GL -1.26      0.786310       1.0"
      ]
     },
     "execution_count": 1,
     "metadata": {},
     "output_type": "execute_result"
    }
   ],
   "source": [
    "import pandas as pd\n",
    "\n",
    "df = pd.read_csv(\"data/law_data.csv\", index_col=0)\n",
    "df.head()"
   ]
  },
  {
   "cell_type": "markdown",
   "metadata": {},
   "source": [
    "### Pre-processing"
   ]
  },
  {
   "cell_type": "markdown",
   "metadata": {},
   "source": [
    "We now pre-process the data. We start by creating categorical \"dummy\" variables according to the `race` variable."
   ]
  },
  {
   "cell_type": "code",
   "execution_count": 2,
   "metadata": {},
   "outputs": [
    {
     "data": {
      "text/html": [
       "<div>\n",
       "<style scoped>\n",
       "    .dataframe tbody tr th:only-of-type {\n",
       "        vertical-align: middle;\n",
       "    }\n",
       "\n",
       "    .dataframe tbody tr th {\n",
       "        vertical-align: top;\n",
       "    }\n",
       "\n",
       "    .dataframe thead th {\n",
       "        text-align: right;\n",
       "    }\n",
       "</style>\n",
       "<table border=\"1\" class=\"dataframe\">\n",
       "  <thead>\n",
       "    <tr style=\"text-align: right;\">\n",
       "      <th></th>\n",
       "      <th>sex</th>\n",
       "      <th>LSAT</th>\n",
       "      <th>UGPA</th>\n",
       "      <th>region_first</th>\n",
       "      <th>ZFYA</th>\n",
       "      <th>sander_index</th>\n",
       "      <th>first_pf</th>\n",
       "      <th>Amerindian</th>\n",
       "      <th>Asian</th>\n",
       "      <th>Black</th>\n",
       "      <th>Hispanic</th>\n",
       "      <th>Mexican</th>\n",
       "      <th>Other</th>\n",
       "      <th>Puertorican</th>\n",
       "      <th>White</th>\n",
       "    </tr>\n",
       "  </thead>\n",
       "  <tbody>\n",
       "    <tr>\n",
       "      <th>0</th>\n",
       "      <td>1</td>\n",
       "      <td>39.0</td>\n",
       "      <td>3.1</td>\n",
       "      <td>GL</td>\n",
       "      <td>-0.98</td>\n",
       "      <td>0.782738</td>\n",
       "      <td>1.0</td>\n",
       "      <td>0</td>\n",
       "      <td>0</td>\n",
       "      <td>0</td>\n",
       "      <td>0</td>\n",
       "      <td>0</td>\n",
       "      <td>0</td>\n",
       "      <td>0</td>\n",
       "      <td>1</td>\n",
       "    </tr>\n",
       "    <tr>\n",
       "      <th>1</th>\n",
       "      <td>1</td>\n",
       "      <td>36.0</td>\n",
       "      <td>3.0</td>\n",
       "      <td>GL</td>\n",
       "      <td>0.09</td>\n",
       "      <td>0.735714</td>\n",
       "      <td>1.0</td>\n",
       "      <td>0</td>\n",
       "      <td>0</td>\n",
       "      <td>0</td>\n",
       "      <td>0</td>\n",
       "      <td>0</td>\n",
       "      <td>0</td>\n",
       "      <td>0</td>\n",
       "      <td>1</td>\n",
       "    </tr>\n",
       "    <tr>\n",
       "      <th>2</th>\n",
       "      <td>2</td>\n",
       "      <td>30.0</td>\n",
       "      <td>3.1</td>\n",
       "      <td>MS</td>\n",
       "      <td>-0.35</td>\n",
       "      <td>0.670238</td>\n",
       "      <td>1.0</td>\n",
       "      <td>0</td>\n",
       "      <td>0</td>\n",
       "      <td>0</td>\n",
       "      <td>0</td>\n",
       "      <td>0</td>\n",
       "      <td>0</td>\n",
       "      <td>0</td>\n",
       "      <td>1</td>\n",
       "    </tr>\n",
       "    <tr>\n",
       "      <th>5</th>\n",
       "      <td>2</td>\n",
       "      <td>39.0</td>\n",
       "      <td>2.2</td>\n",
       "      <td>NE</td>\n",
       "      <td>0.58</td>\n",
       "      <td>0.697024</td>\n",
       "      <td>1.0</td>\n",
       "      <td>0</td>\n",
       "      <td>0</td>\n",
       "      <td>0</td>\n",
       "      <td>1</td>\n",
       "      <td>0</td>\n",
       "      <td>0</td>\n",
       "      <td>0</td>\n",
       "      <td>0</td>\n",
       "    </tr>\n",
       "    <tr>\n",
       "      <th>6</th>\n",
       "      <td>1</td>\n",
       "      <td>37.0</td>\n",
       "      <td>3.4</td>\n",
       "      <td>GL</td>\n",
       "      <td>-1.26</td>\n",
       "      <td>0.786310</td>\n",
       "      <td>1.0</td>\n",
       "      <td>0</td>\n",
       "      <td>0</td>\n",
       "      <td>0</td>\n",
       "      <td>0</td>\n",
       "      <td>0</td>\n",
       "      <td>0</td>\n",
       "      <td>0</td>\n",
       "      <td>1</td>\n",
       "    </tr>\n",
       "  </tbody>\n",
       "</table>\n",
       "</div>"
      ],
      "text/plain": [
       "   sex  LSAT  UGPA region_first  ZFYA  sander_index  first_pf  Amerindian  \\\n",
       "0    1  39.0   3.1           GL -0.98      0.782738       1.0           0   \n",
       "1    1  36.0   3.0           GL  0.09      0.735714       1.0           0   \n",
       "2    2  30.0   3.1           MS -0.35      0.670238       1.0           0   \n",
       "5    2  39.0   2.2           NE  0.58      0.697024       1.0           0   \n",
       "6    1  37.0   3.4           GL -1.26      0.786310       1.0           0   \n",
       "\n",
       "   Asian  Black  Hispanic  Mexican  Other  Puertorican  White  \n",
       "0      0      0         0        0      0            0      1  \n",
       "1      0      0         0        0      0            0      1  \n",
       "2      0      0         0        0      0            0      1  \n",
       "5      0      0         1        0      0            0      0  \n",
       "6      0      0         0        0      0            0      1  "
      ]
     },
     "execution_count": 2,
     "metadata": {},
     "output_type": "execute_result"
    }
   ],
   "source": [
    "df = pd.get_dummies(df, columns=[\"race\"], prefix=\"\", prefix_sep=\"\")\n",
    "df.head()"
   ]
  },
  {
   "cell_type": "markdown",
   "metadata": {},
   "source": [
    "We also want to expand the `sex` variable into `male`/`female` categorical variables and remove the original."
   ]
  },
  {
   "cell_type": "code",
   "execution_count": 3,
   "metadata": {},
   "outputs": [
    {
     "data": {
      "text/html": [
       "<div>\n",
       "<style scoped>\n",
       "    .dataframe tbody tr th:only-of-type {\n",
       "        vertical-align: middle;\n",
       "    }\n",
       "\n",
       "    .dataframe tbody tr th {\n",
       "        vertical-align: top;\n",
       "    }\n",
       "\n",
       "    .dataframe thead th {\n",
       "        text-align: right;\n",
       "    }\n",
       "</style>\n",
       "<table border=\"1\" class=\"dataframe\">\n",
       "  <thead>\n",
       "    <tr style=\"text-align: right;\">\n",
       "      <th></th>\n",
       "      <th>LSAT</th>\n",
       "      <th>UGPA</th>\n",
       "      <th>region_first</th>\n",
       "      <th>ZFYA</th>\n",
       "      <th>sander_index</th>\n",
       "      <th>first_pf</th>\n",
       "      <th>Amerindian</th>\n",
       "      <th>Asian</th>\n",
       "      <th>Black</th>\n",
       "      <th>Hispanic</th>\n",
       "      <th>Mexican</th>\n",
       "      <th>Other</th>\n",
       "      <th>Puertorican</th>\n",
       "      <th>White</th>\n",
       "      <th>male</th>\n",
       "      <th>female</th>\n",
       "    </tr>\n",
       "  </thead>\n",
       "  <tbody>\n",
       "    <tr>\n",
       "      <th>0</th>\n",
       "      <td>39.0</td>\n",
       "      <td>3.1</td>\n",
       "      <td>GL</td>\n",
       "      <td>-0.98</td>\n",
       "      <td>0.782738</td>\n",
       "      <td>1.0</td>\n",
       "      <td>0</td>\n",
       "      <td>0</td>\n",
       "      <td>0</td>\n",
       "      <td>0</td>\n",
       "      <td>0</td>\n",
       "      <td>0</td>\n",
       "      <td>0</td>\n",
       "      <td>1</td>\n",
       "      <td>0</td>\n",
       "      <td>1</td>\n",
       "    </tr>\n",
       "    <tr>\n",
       "      <th>1</th>\n",
       "      <td>36.0</td>\n",
       "      <td>3.0</td>\n",
       "      <td>GL</td>\n",
       "      <td>0.09</td>\n",
       "      <td>0.735714</td>\n",
       "      <td>1.0</td>\n",
       "      <td>0</td>\n",
       "      <td>0</td>\n",
       "      <td>0</td>\n",
       "      <td>0</td>\n",
       "      <td>0</td>\n",
       "      <td>0</td>\n",
       "      <td>0</td>\n",
       "      <td>1</td>\n",
       "      <td>0</td>\n",
       "      <td>1</td>\n",
       "    </tr>\n",
       "    <tr>\n",
       "      <th>2</th>\n",
       "      <td>30.0</td>\n",
       "      <td>3.1</td>\n",
       "      <td>MS</td>\n",
       "      <td>-0.35</td>\n",
       "      <td>0.670238</td>\n",
       "      <td>1.0</td>\n",
       "      <td>0</td>\n",
       "      <td>0</td>\n",
       "      <td>0</td>\n",
       "      <td>0</td>\n",
       "      <td>0</td>\n",
       "      <td>0</td>\n",
       "      <td>0</td>\n",
       "      <td>1</td>\n",
       "      <td>1</td>\n",
       "      <td>0</td>\n",
       "    </tr>\n",
       "    <tr>\n",
       "      <th>5</th>\n",
       "      <td>39.0</td>\n",
       "      <td>2.2</td>\n",
       "      <td>NE</td>\n",
       "      <td>0.58</td>\n",
       "      <td>0.697024</td>\n",
       "      <td>1.0</td>\n",
       "      <td>0</td>\n",
       "      <td>0</td>\n",
       "      <td>0</td>\n",
       "      <td>1</td>\n",
       "      <td>0</td>\n",
       "      <td>0</td>\n",
       "      <td>0</td>\n",
       "      <td>0</td>\n",
       "      <td>1</td>\n",
       "      <td>0</td>\n",
       "    </tr>\n",
       "    <tr>\n",
       "      <th>6</th>\n",
       "      <td>37.0</td>\n",
       "      <td>3.4</td>\n",
       "      <td>GL</td>\n",
       "      <td>-1.26</td>\n",
       "      <td>0.786310</td>\n",
       "      <td>1.0</td>\n",
       "      <td>0</td>\n",
       "      <td>0</td>\n",
       "      <td>0</td>\n",
       "      <td>0</td>\n",
       "      <td>0</td>\n",
       "      <td>0</td>\n",
       "      <td>0</td>\n",
       "      <td>1</td>\n",
       "      <td>0</td>\n",
       "      <td>1</td>\n",
       "    </tr>\n",
       "  </tbody>\n",
       "</table>\n",
       "</div>"
      ],
      "text/plain": [
       "   LSAT  UGPA region_first  ZFYA  sander_index  first_pf  Amerindian  Asian  \\\n",
       "0  39.0   3.1           GL -0.98      0.782738       1.0           0      0   \n",
       "1  36.0   3.0           GL  0.09      0.735714       1.0           0      0   \n",
       "2  30.0   3.1           MS -0.35      0.670238       1.0           0      0   \n",
       "5  39.0   2.2           NE  0.58      0.697024       1.0           0      0   \n",
       "6  37.0   3.4           GL -1.26      0.786310       1.0           0      0   \n",
       "\n",
       "   Black  Hispanic  Mexican  Other  Puertorican  White  male  female  \n",
       "0      0         0        0      0            0      1     0       1  \n",
       "1      0         0        0      0            0      1     0       1  \n",
       "2      0         0        0      0            0      1     1       0  \n",
       "5      0         1        0      0            0      0     1       0  \n",
       "6      0         0        0      0            0      1     0       1  "
      ]
     },
     "execution_count": 3,
     "metadata": {},
     "output_type": "execute_result"
    }
   ],
   "source": [
    "df[\"male\"] = df[\"sex\"].map(lambda x: 1 if x == 2 else 0)\n",
    "df[\"female\"] = df[\"sex\"].map(lambda x: 1 if x == 1 else 0)\n",
    "df = df.drop(axis=1, columns=[\"sex\"])\n",
    "df.head()"
   ]
  },
  {
   "cell_type": "markdown",
   "metadata": {},
   "source": [
    "We will also convert the entrance exam scores (`LSAT`) to a discrete variable."
   ]
  },
  {
   "cell_type": "code",
   "execution_count": 4,
   "metadata": {},
   "outputs": [
    {
     "data": {
      "text/html": [
       "<div>\n",
       "<style scoped>\n",
       "    .dataframe tbody tr th:only-of-type {\n",
       "        vertical-align: middle;\n",
       "    }\n",
       "\n",
       "    .dataframe tbody tr th {\n",
       "        vertical-align: top;\n",
       "    }\n",
       "\n",
       "    .dataframe thead th {\n",
       "        text-align: right;\n",
       "    }\n",
       "</style>\n",
       "<table border=\"1\" class=\"dataframe\">\n",
       "  <thead>\n",
       "    <tr style=\"text-align: right;\">\n",
       "      <th></th>\n",
       "      <th>LSAT</th>\n",
       "      <th>UGPA</th>\n",
       "      <th>region_first</th>\n",
       "      <th>ZFYA</th>\n",
       "      <th>sander_index</th>\n",
       "      <th>first_pf</th>\n",
       "      <th>Amerindian</th>\n",
       "      <th>Asian</th>\n",
       "      <th>Black</th>\n",
       "      <th>Hispanic</th>\n",
       "      <th>Mexican</th>\n",
       "      <th>Other</th>\n",
       "      <th>Puertorican</th>\n",
       "      <th>White</th>\n",
       "      <th>male</th>\n",
       "      <th>female</th>\n",
       "    </tr>\n",
       "  </thead>\n",
       "  <tbody>\n",
       "    <tr>\n",
       "      <th>0</th>\n",
       "      <td>39</td>\n",
       "      <td>3.1</td>\n",
       "      <td>GL</td>\n",
       "      <td>-0.98</td>\n",
       "      <td>0.782738</td>\n",
       "      <td>1.0</td>\n",
       "      <td>0</td>\n",
       "      <td>0</td>\n",
       "      <td>0</td>\n",
       "      <td>0</td>\n",
       "      <td>0</td>\n",
       "      <td>0</td>\n",
       "      <td>0</td>\n",
       "      <td>1</td>\n",
       "      <td>0</td>\n",
       "      <td>1</td>\n",
       "    </tr>\n",
       "    <tr>\n",
       "      <th>1</th>\n",
       "      <td>36</td>\n",
       "      <td>3.0</td>\n",
       "      <td>GL</td>\n",
       "      <td>0.09</td>\n",
       "      <td>0.735714</td>\n",
       "      <td>1.0</td>\n",
       "      <td>0</td>\n",
       "      <td>0</td>\n",
       "      <td>0</td>\n",
       "      <td>0</td>\n",
       "      <td>0</td>\n",
       "      <td>0</td>\n",
       "      <td>0</td>\n",
       "      <td>1</td>\n",
       "      <td>0</td>\n",
       "      <td>1</td>\n",
       "    </tr>\n",
       "    <tr>\n",
       "      <th>2</th>\n",
       "      <td>30</td>\n",
       "      <td>3.1</td>\n",
       "      <td>MS</td>\n",
       "      <td>-0.35</td>\n",
       "      <td>0.670238</td>\n",
       "      <td>1.0</td>\n",
       "      <td>0</td>\n",
       "      <td>0</td>\n",
       "      <td>0</td>\n",
       "      <td>0</td>\n",
       "      <td>0</td>\n",
       "      <td>0</td>\n",
       "      <td>0</td>\n",
       "      <td>1</td>\n",
       "      <td>1</td>\n",
       "      <td>0</td>\n",
       "    </tr>\n",
       "    <tr>\n",
       "      <th>5</th>\n",
       "      <td>39</td>\n",
       "      <td>2.2</td>\n",
       "      <td>NE</td>\n",
       "      <td>0.58</td>\n",
       "      <td>0.697024</td>\n",
       "      <td>1.0</td>\n",
       "      <td>0</td>\n",
       "      <td>0</td>\n",
       "      <td>0</td>\n",
       "      <td>1</td>\n",
       "      <td>0</td>\n",
       "      <td>0</td>\n",
       "      <td>0</td>\n",
       "      <td>0</td>\n",
       "      <td>1</td>\n",
       "      <td>0</td>\n",
       "    </tr>\n",
       "    <tr>\n",
       "      <th>6</th>\n",
       "      <td>37</td>\n",
       "      <td>3.4</td>\n",
       "      <td>GL</td>\n",
       "      <td>-1.26</td>\n",
       "      <td>0.786310</td>\n",
       "      <td>1.0</td>\n",
       "      <td>0</td>\n",
       "      <td>0</td>\n",
       "      <td>0</td>\n",
       "      <td>0</td>\n",
       "      <td>0</td>\n",
       "      <td>0</td>\n",
       "      <td>0</td>\n",
       "      <td>1</td>\n",
       "      <td>0</td>\n",
       "      <td>1</td>\n",
       "    </tr>\n",
       "  </tbody>\n",
       "</table>\n",
       "</div>"
      ],
      "text/plain": [
       "   LSAT  UGPA region_first  ZFYA  sander_index  first_pf  Amerindian  Asian  \\\n",
       "0    39   3.1           GL -0.98      0.782738       1.0           0      0   \n",
       "1    36   3.0           GL  0.09      0.735714       1.0           0      0   \n",
       "2    30   3.1           MS -0.35      0.670238       1.0           0      0   \n",
       "5    39   2.2           NE  0.58      0.697024       1.0           0      0   \n",
       "6    37   3.4           GL -1.26      0.786310       1.0           0      0   \n",
       "\n",
       "   Black  Hispanic  Mexican  Other  Puertorican  White  male  female  \n",
       "0      0         0        0      0            0      1     0       1  \n",
       "1      0         0        0      0            0      1     0       1  \n",
       "2      0         0        0      0            0      1     1       0  \n",
       "5      0         1        0      0            0      0     1       0  \n",
       "6      0         0        0      0            0      1     0       1  "
      ]
     },
     "execution_count": 4,
     "metadata": {},
     "output_type": "execute_result"
    }
   ],
   "source": [
    "df[\"LSAT\"] = df[\"LSAT\"].astype(int)\n",
    "df.head()"
   ]
  },
  {
   "cell_type": "markdown",
   "metadata": {},
   "source": [
    "### Protected attributes"
   ]
  },
  {
   "cell_type": "markdown",
   "metadata": {},
   "source": [
    "_Counterfactual fairness_ enforces that a distribution over possible predictions for an individual should\n",
    "remain unchanged in a world where an individual’s protected attributes $A$ had been different in a causal sense\n",
    "\n",
    "Let's start by defining the _protected attributes_. Obvious candidates are the different categorical variables for ethnicity (`Asian`, `White`, `Black`, _etc_) and gender (`male`, `female`)."
   ]
  },
  {
   "cell_type": "code",
   "execution_count": 5,
   "metadata": {},
   "outputs": [],
   "source": [
    "A = [\n",
    "    \"Amerindian\",\n",
    "    \"Asian\",\n",
    "    \"Black\",\n",
    "    \"Hispanic\",\n",
    "    \"Mexican\",\n",
    "    \"Other\",\n",
    "    \"Puertorican\",\n",
    "    \"White\",\n",
    "    \"male\",\n",
    "    \"female\",\n",
    "]"
   ]
  },
  {
   "cell_type": "markdown",
   "metadata": {},
   "source": [
    "### Training and testing subsets"
   ]
  },
  {
   "cell_type": "markdown",
   "metadata": {},
   "source": [
    "We will now divide the dataset into training and testing subsets.\n",
    "We will use the same ratio as in {cite}`Kusner2017`, that is 20%."
   ]
  },
  {
   "cell_type": "code",
   "execution_count": 6,
   "metadata": {},
   "outputs": [],
   "source": [
    "from sklearn.model_selection import train_test_split\n",
    "\n",
    "df_train, df_test = train_test_split(df, random_state=23, test_size=0.2);"
   ]
  },
  {
   "cell_type": "markdown",
   "metadata": {},
   "source": [
    "## Unfair model"
   ]
  },
  {
   "cell_type": "markdown",
   "metadata": {},
   "source": [
    "As detailed in {cite}`Kusner2017`, the concept of counterfactual fairness holds\n",
    "under three levels of assumptions of increasing strength.\n",
    "\n",
    "The first of such levels is **Level 1**, where $\\hat{Y}$ is built using only the observable non-descendants of $A$. \n",
    "This only requires **partial** causal ordering and no further causal assumptions, but in many problems there will be few, if any,\n",
    "observables which are not descendants of protected demographic factors.\n",
    "\n",
    "For this dataset, since `LSAT`, `GPA`, and `FYA` are all biased by ethnicity and gender, we cannot use any observed\n",
    "features to construct a Level 1 counterfactually fair predictor as described in Level 1.\n",
    "\n",
    "Instead (and in order to compare the performance with Level 2 and 3 models) we will build two _unfair baselines_.\n",
    "\n",
    "* A **Full* model, which will be trained with the totality of the variables\n",
    "* An **Unaware** model (FTU), which will be trained will all the variables, except the protected attributes $A$.\n",
    "\n",
    "Let's proceed with calculating the **Full** model."
   ]
  },
  {
   "cell_type": "markdown",
   "metadata": {},
   "source": [
    "### Full model"
   ]
  },
  {
   "cell_type": "markdown",
   "metadata": {},
   "source": [
    "As mentioned previously, the full model will be a simple linear regression in order to predict `ZFYA` using all of the variables."
   ]
  },
  {
   "cell_type": "code",
   "execution_count": 7,
   "metadata": {},
   "outputs": [],
   "source": [
    "from sklearn.linear_model import LinearRegression\n",
    "\n",
    "linreg_unfair = LinearRegression()"
   ]
  },
  {
   "cell_type": "markdown",
   "metadata": {},
   "source": [
    "The inputs will then be the totality of the variabes (protected variables $A$, as well as `UGPA` and `LSAT`)."
   ]
  },
  {
   "cell_type": "code",
   "execution_count": 9,
   "metadata": {},
   "outputs": [
    {
     "name": "stdout",
     "output_type": "stream",
     "text": [
      "[[ 0.   0.   0.  ...  1.   3.1 39. ]\n",
      " [ 0.   0.   0.  ...  1.   3.5 36. ]\n",
      " [ 0.   0.   0.  ...  1.   3.9 46. ]\n",
      " ...\n",
      " [ 0.   0.   0.  ...  1.   2.9 33. ]\n",
      " [ 0.   0.   0.  ...  0.   2.9 31. ]\n",
      " [ 0.   0.   0.  ...  0.   3.6 39. ]]\n"
     ]
    }
   ],
   "source": [
    "import numpy as np\n",
    "\n",
    "X = np.hstack(\n",
    "    (\n",
    "        df_train[A],\n",
    "        np.array(df_train[\"UGPA\"]).reshape(-1, 1),\n",
    "        np.array(df_train[\"LSAT\"]).reshape(-1, 1),\n",
    "    )\n",
    ")\n",
    "print(X)"
   ]
  },
  {
   "cell_type": "markdown",
   "metadata": {},
   "source": [
    "As for our target, we are trying to predict `ZFYA` (first year average grade)."
   ]
  },
  {
   "cell_type": "code",
   "execution_count": 10,
   "metadata": {},
   "outputs": [
    {
     "data": {
      "text/plain": [
       "10454    0.56\n",
       "14108    0.60\n",
       "20624   -0.14\n",
       "8316     0.20\n",
       "14250    0.02\n",
       "18909   -1.47\n",
       "8949     1.36\n",
       "1658     0.39\n",
       "23340    0.10\n",
       "26884    0.48\n",
       "Name: ZFYA, dtype: float64"
      ]
     },
     "execution_count": 10,
     "metadata": {},
     "output_type": "execute_result"
    }
   ],
   "source": [
    "y = df_train[\"ZFYA\"]\n",
    "y[:10]"
   ]
  },
  {
   "cell_type": "markdown",
   "metadata": {},
   "source": [
    "We fit the model:"
   ]
  },
  {
   "cell_type": "code",
   "execution_count": 11,
   "metadata": {},
   "outputs": [],
   "source": [
    "linreg_unfair = linreg_unfair.fit(X, y)"
   ]
  },
  {
   "cell_type": "markdown",
   "metadata": {},
   "source": [
    "And perform some predictions on the test subset."
   ]
  },
  {
   "cell_type": "code",
   "execution_count": 12,
   "metadata": {},
   "outputs": [
    {
     "data": {
      "text/plain": [
       "array([[ 0. ,  0. ,  0. , ...,  0. ,  3.4, 32. ],\n",
       "       [ 0. ,  0. ,  0. , ...,  1. ,  3.5, 41. ],\n",
       "       [ 0. ,  0. ,  0. , ...,  1. ,  3.9, 42. ],\n",
       "       ...,\n",
       "       [ 0. ,  0. ,  0. , ...,  0. ,  2.3, 28. ],\n",
       "       [ 0. ,  0. ,  0. , ...,  0. ,  3.3, 36. ],\n",
       "       [ 0. ,  0. ,  0. , ...,  0. ,  2.9, 37. ]])"
      ]
     },
     "execution_count": 12,
     "metadata": {},
     "output_type": "execute_result"
    }
   ],
   "source": [
    "X_test = np.hstack(\n",
    "    (\n",
    "        df_test[A],\n",
    "        np.array(df_test[\"UGPA\"]).reshape(-1, 1),\n",
    "        np.array(df_test[\"LSAT\"]).reshape(-1, 1),\n",
    "    )\n",
    ")\n",
    "X_test"
   ]
  },
  {
   "cell_type": "code",
   "execution_count": 13,
   "metadata": {},
   "outputs": [
    {
     "data": {
      "text/plain": [
       "array([ 0.08676147,  0.34942627,  0.4609375 , ..., -0.25949097,\n",
       "        0.19308472,  0.14471436])"
      ]
     },
     "execution_count": 13,
     "metadata": {},
     "output_type": "execute_result"
    }
   ],
   "source": [
    "predictions_unfair = linreg_unfair.predict(X_test)\n",
    "predictions_unfair"
   ]
  },
  {
   "cell_type": "markdown",
   "metadata": {},
   "source": [
    "We will also calculate the _unfair model_ score for future use."
   ]
  },
  {
   "cell_type": "code",
   "execution_count": 14,
   "metadata": {},
   "outputs": [
    {
     "name": "stdout",
     "output_type": "stream",
     "text": [
      "0.12701634112845117\n"
     ]
    }
   ],
   "source": [
    "score_unfair = linreg_unfair.score(X_test, df_test[\"ZFYA\"])\n",
    "print(score_unfair)"
   ]
  },
  {
   "cell_type": "code",
   "execution_count": 16,
   "metadata": {},
   "outputs": [
    {
     "name": "stdout",
     "output_type": "stream",
     "text": [
      "0.8666709890234552\n"
     ]
    }
   ],
   "source": [
    "from sklearn.metrics import mean_squared_error\n",
    "\n",
    "RMSE_unfair = np.sqrt(mean_squared_error(df_test[\"ZFYA\"], predictions_unfair))\n",
    "print(RMSE_unfair)"
   ]
  },
  {
   "cell_type": "markdown",
   "metadata": {},
   "source": [
    "## Fairness through unawareness (FTU)"
   ]
  },
  {
   "cell_type": "markdown",
   "metadata": {},
   "source": [
    "As also mentioned in {cite}`Kusner2017`, the second baseline we will use is an **Unaware** model (FTU), which will be trained will all the variables, except the protected attributes $A$."
   ]
  },
  {
   "cell_type": "code",
   "execution_count": 17,
   "metadata": {},
   "outputs": [],
   "source": [
    "linreg_ftu = LinearRegression()"
   ]
  },
  {
   "cell_type": "markdown",
   "metadata": {},
   "source": [
    "We will create the inputs as previously, but without using the protected attributes, $A$."
   ]
  },
  {
   "cell_type": "code",
   "execution_count": 18,
   "metadata": {},
   "outputs": [
    {
     "data": {
      "text/plain": [
       "array([[ 3.1, 39. ],\n",
       "       [ 3.5, 36. ],\n",
       "       [ 3.9, 46. ],\n",
       "       ...,\n",
       "       [ 2.9, 33. ],\n",
       "       [ 2.9, 31. ],\n",
       "       [ 3.6, 39. ]])"
      ]
     },
     "execution_count": 18,
     "metadata": {},
     "output_type": "execute_result"
    }
   ],
   "source": [
    "X_ftu = np.hstack(\n",
    "    (\n",
    "        np.array(df_train[\"UGPA\"]).reshape(-1, 1),\n",
    "        np.array(df_train[\"LSAT\"]).reshape(-1, 1),\n",
    "    )\n",
    ")\n",
    "X_ftu"
   ]
  },
  {
   "cell_type": "markdown",
   "metadata": {},
   "source": [
    "And we fit the model:"
   ]
  },
  {
   "cell_type": "code",
   "execution_count": 19,
   "metadata": {},
   "outputs": [],
   "source": [
    "linreg_ftu = linreg_ftu.fit(X_ftu, y)"
   ]
  },
  {
   "cell_type": "markdown",
   "metadata": {},
   "source": [
    "Again, let's perform some predictions on the test subset."
   ]
  },
  {
   "cell_type": "code",
   "execution_count": 20,
   "metadata": {},
   "outputs": [
    {
     "data": {
      "text/plain": [
       "array([[ 3.4, 32. ],\n",
       "       [ 3.5, 41. ],\n",
       "       [ 3.9, 42. ],\n",
       "       ...,\n",
       "       [ 2.3, 28. ],\n",
       "       [ 3.3, 36. ],\n",
       "       [ 2.9, 37. ]])"
      ]
     },
     "execution_count": 20,
     "metadata": {},
     "output_type": "execute_result"
    }
   ],
   "source": [
    "X_ftu_test = np.hstack(\n",
    "    (np.array(df_test[\"UGPA\"]).reshape(-1, 1), np.array(df_test[\"LSAT\"]).reshape(-1, 1))\n",
    ")\n",
    "X_ftu_test"
   ]
  },
  {
   "cell_type": "code",
   "execution_count": 21,
   "metadata": {},
   "outputs": [
    {
     "data": {
      "text/plain": [
       "array([-0.06909331,  0.35516229,  0.50304555, ..., -0.53109868,\n",
       "        0.08204563,  0.0226846 ])"
      ]
     },
     "execution_count": 21,
     "metadata": {},
     "output_type": "execute_result"
    }
   ],
   "source": [
    "predictions_ftu = linreg_ftu.predict(X_ftu_test)\n",
    "predictions_ftu"
   ]
  },
  {
   "cell_type": "markdown",
   "metadata": {},
   "source": [
    "As previously, let's calculate this model's score."
   ]
  },
  {
   "cell_type": "code",
   "execution_count": 22,
   "metadata": {},
   "outputs": [
    {
     "name": "stdout",
     "output_type": "stream",
     "text": [
      "0.0917442226187073\n"
     ]
    }
   ],
   "source": [
    "ftu_score = linreg_ftu.score(X_ftu_test, df_test[\"ZFYA\"])\n",
    "print(ftu_score)"
   ]
  },
  {
   "cell_type": "code",
   "execution_count": 23,
   "metadata": {},
   "outputs": [
    {
     "name": "stdout",
     "output_type": "stream",
     "text": [
      "0.8840061503773576\n"
     ]
    }
   ],
   "source": [
    "RMSE_ftu = np.sqrt(mean_squared_error(df_test[\"ZFYA\"], predictions_ftu))\n",
    "print(RMSE_ftu)"
   ]
  },
  {
   "cell_type": "markdown",
   "metadata": {},
   "source": [
    "## Latent variable model\n",
    "\n",
    "Still according to {cite}`Kusner2017`, a **Level 2** approach will model latent ‘fair’ variables which are parents of observed variables.\n",
    "\n",
    "If we consider a predictor parameterised by $\\theta$, such as:\n",
    "\n",
    "$$\n",
    "\\hat{Y} \\equiv g_\\theta (U, X_{\\nsucc A})\n",
    "$$\n",
    "\n",
    "with $X_{\\nsucc A} \\subseteq X$ are non-descendants of $A$.\n",
    "Assuming a loss function $l(\\cdot,\\cdot)$ and training data $\\mathcal{D}\\equiv\\{(A^{(i), X^{(i)}, Y^{(i)}})\\}$, for $i=1,2\\dots,n$, the empirical loss is defined as\n",
    "\n",
    "$$\n",
    "L(\\theta)\\equiv \\sum_{i=1}^n \\mathbb{E}[l(y^{(i)},g_\\theta(U^{(i)}, x^{(i)}_{\\nsucc A}))]/n\n",
    "$$\n",
    "\n",
    "which has to be minimised in order to $\\theta$. Each $n$ expectation is with respect to random variable $U^{(i)}$ such that\n",
    "\n",
    "$$\n",
    "U^{(i)}\\sim P_{\\mathcal{M}}(U|x^{(i)}, a^{(i)})\n",
    "$$\n",
    "\n",
    "where $P_{\\mathcal{M}}(U|x,a)$ is the conditional distribution of the background variables as given by a causal model M that is available by assumption.\n",
    "\n",
    "If this expectation cannot be calculated analytically, Markov chain Monte Carlo (MCMC) can be used to approximate it as in the following algorithm.\n",
    "\n",
    "We will follow the model specified in the original paper, where the latent variable considered is $K$, which represents a student's **knowledge**.\n",
    "$K$ will affect `GPA`, `LSAT` and the outcome, `FYA`.\n",
    "The model can be defined by:\n",
    "\n",
    "$$\n",
    "GPA \\sim \\mathcal{N}(GPA_0 + w_{GPA}^KK + w_{GPA}^RR + w_{GPA}^SS, \\sigma_{GPA}) \\\\\n",
    "LSAT \\sim \\text{Po}(\\exp(LSAT_0 + w_{LSAT}^KK + w_{LSAT}^RR + w_L^SS)) \\\\\n",
    "FYA \\sim \\mathcal{N}(w_{FYA}^KK + w_{FYA}^RR + w_{FYA}^SS, 1) \\\\\n",
    "K \\sim \\mathcal{N}(0,1)\n",
    "$$"
   ]
  },
  {
   "cell_type": "markdown",
   "metadata": {},
   "source": [
    "The priors used will be:\n",
    "\n",
    "$$\n",
    "GPA_0 \\sim \\mathcal{N}(0, 1) \\\\\n",
    "LSAT_0 \\sim \\mathcal{N}(0, 1) \\\\\n",
    "GPA_0 \\sim \\mathcal{N}(0, 1) \\\\\n",
    "$$"
   ]
  },
  {
   "cell_type": "code",
   "execution_count": 27,
   "metadata": {},
   "outputs": [],
   "source": [
    "import pymc3 as pm\n",
    "\n",
    "K = len(A)\n",
    "\n",
    "\n",
    "def MCMC(data, samples=1000):\n",
    "\n",
    "    N = len(data)\n",
    "    a = np.array(data[A])\n",
    "\n",
    "    model = pm.Model()\n",
    "\n",
    "    with model:\n",
    "        # Priors\n",
    "        k = pm.Normal(\"k\", mu=0, sigma=1, shape=(1, N))\n",
    "        gpa0 = pm.Normal(\"gpa0\", mu=0, sigma=1)\n",
    "        lsat0 = pm.Normal(\"lsat0\", mu=0, sigma=1)\n",
    "        w_k_gpa = pm.Normal(\"w_k_gpa\", mu=0, sigma=1)\n",
    "        w_k_lsat = pm.Normal(\"w_k_lsat\", mu=0, sigma=1)\n",
    "        w_k_zfya = pm.Normal(\"w_k_zfya\", mu=0, sigma=1)\n",
    "\n",
    "        w_a_gpa = pm.Normal(\"w_a_gpa\", mu=np.zeros(K), sigma=np.ones(K), shape=K)\n",
    "        w_a_lsat = pm.Normal(\"w_a_lsat\", mu=np.zeros(K), sigma=np.ones(K), shape=K)\n",
    "        w_a_zfya = pm.Normal(\"w_a_zfya\", mu=np.zeros(K), sigma=np.ones(K), shape=K)\n",
    "\n",
    "        sigma_gpa_2 = pm.InverseGamma(\"sigma_gpa_2\", alpha=1, beta=1)\n",
    "\n",
    "        mu = gpa0 + (w_k_gpa * k) + pm.math.dot(a, w_a_gpa)\n",
    "\n",
    "        # Observed data\n",
    "        gpa = pm.Normal(\n",
    "            \"gpa\",\n",
    "            mu=mu,\n",
    "            sigma=pm.math.sqrt(sigma_gpa_2),\n",
    "            observed=list(data[\"UGPA\"]),\n",
    "            shape=(1, N),\n",
    "        )\n",
    "        lsat = pm.Poisson(\n",
    "            \"lsat\",\n",
    "            pm.math.exp(lsat0 + w_k_lsat * k + pm.math.dot(a, w_a_lsat)),\n",
    "            observed=list(data[\"LSAT\"]),\n",
    "            shape=(1, N),\n",
    "        )\n",
    "        zfya = pm.Normal(\n",
    "            \"zfya\",\n",
    "            mu=w_k_zfya * k + pm.math.dot(a, w_a_zfya),\n",
    "            sigma=1,\n",
    "            observed=list(data[\"ZFYA\"]),\n",
    "            shape=(1, N),\n",
    "        )\n",
    "\n",
    "        step = pm.Metropolis()\n",
    "        trace = pm.sample(samples, step)\n",
    "\n",
    "    return trace"
   ]
  },
  {
   "cell_type": "code",
   "execution_count": 28,
   "metadata": {},
   "outputs": [
    {
     "name": "stderr",
     "output_type": "stream",
     "text": [
      "Multiprocess sampling (4 chains in 4 jobs)\n",
      "CompoundStep\n",
      ">Metropolis: [sigma_gpa_2]\n",
      ">Metropolis: [w_a_zfya]\n",
      ">Metropolis: [w_a_lsat]\n",
      ">Metropolis: [w_a_gpa]\n",
      ">Metropolis: [w_k_zfya]\n",
      ">Metropolis: [w_k_lsat]\n",
      ">Metropolis: [w_k_gpa]\n",
      ">Metropolis: [lsat0]\n",
      ">Metropolis: [gpa0]\n",
      ">Metropolis: [k]\n"
     ]
    },
    {
     "data": {
      "text/html": [
       "\n",
       "    <div>\n",
       "        <style>\n",
       "            /* Turns off some styling */\n",
       "            progress {\n",
       "                /* gets rid of default border in Firefox and Opera. */\n",
       "                border: none;\n",
       "                /* Needs to be in here for Safari polyfill so background images work as expected. */\n",
       "                background-size: auto;\n",
       "            }\n",
       "            .progress-bar-interrupted, .progress-bar-interrupted::-webkit-progress-bar {\n",
       "                background: #F44336;\n",
       "            }\n",
       "        </style>\n",
       "      <progress value='8000' class='' max='8000' style='width:300px; height:20px; vertical-align: middle;'></progress>\n",
       "      100.00% [8000/8000 01:22<00:00 Sampling 4 chains, 0 divergences]\n",
       "    </div>\n",
       "    "
      ],
      "text/plain": [
       "<IPython.core.display.HTML object>"
      ]
     },
     "metadata": {},
     "output_type": "display_data"
    },
    {
     "name": "stderr",
     "output_type": "stream",
     "text": [
      "Sampling 4 chains for 1_000 tune and 1_000 draw iterations (4_000 + 4_000 draws total) took 94 seconds.\n",
      "The rhat statistic is larger than 1.4 for some parameters. The sampler did not converge.\n",
      "The estimated number of effective samples is smaller than 200 for some parameters.\n"
     ]
    }
   ],
   "source": [
    "train_estimates = MCMC(df_train)"
   ]
  },
  {
   "cell_type": "markdown",
   "metadata": {},
   "source": [
    "Let's plot a single trace for $k^{(i)}$."
   ]
  },
  {
   "cell_type": "code",
   "execution_count": 31,
   "metadata": {
    "tags": [
     "hide-input"
    ]
   },
   "outputs": [
    {
     "data": {
      "image/png": "[encoded data removed]",
      "text/plain": [
       "<Figure size 907.2x453.6 with 2 Axes>"
      ]
     },
     "metadata": {
      "needs_background": "light"
     },
     "output_type": "display_data"
    }
   ],
   "source": [
    "import matplotlib.pyplot as plt\n",
    "import seaborn as sns\n",
    "from plotutils import *\n",
    "\n",
    "# Thin the samples before plotting\n",
    "k_trace = train_estimates[\"k\"][:, 0].reshape(-1, 1)[0::100]\n",
    "plt.subplot(1, 2, 1)\n",
    "sns.histplot(k_trace, kde=True)\n",
    "plt.subplot(1, 2, 2)\n",
    "plt.scatter(range(len(k_trace)), k_trace, s=1)\n",
    "plt.show()"
   ]
  },
  {
   "cell_type": "code",
   "execution_count": 33,
   "metadata": {},
   "outputs": [
    {
     "data": {
      "text/plain": [
       "array([[ 0.20658037],\n",
       "       [-0.04806536],\n",
       "       [-0.01335303],\n",
       "       ...,\n",
       "       [ 0.09076849],\n",
       "       [ 0.11204019],\n",
       "       [ 0.02730821]])"
      ]
     },
     "execution_count": 33,
     "metadata": {},
     "output_type": "execute_result"
    }
   ],
   "source": [
    "train_k = np.mean(train_estimates[\"k\"], axis=0).reshape(-1, 1)\n",
    "train_k"
   ]
  },
  {
   "cell_type": "markdown",
   "metadata": {},
   "source": [
    "We can now estimate $k$ using the test data:"
   ]
  },
  {
   "cell_type": "code",
   "execution_count": 34,
   "metadata": {},
   "outputs": [
    {
     "name": "stderr",
     "output_type": "stream",
     "text": [
      "Multiprocess sampling (4 chains in 4 jobs)\n",
      "CompoundStep\n",
      ">Metropolis: [sigma_gpa_2]\n",
      ">Metropolis: [w_a_zfya]\n",
      ">Metropolis: [w_a_lsat]\n",
      ">Metropolis: [w_a_gpa]\n",
      ">Metropolis: [w_k_zfya]\n",
      ">Metropolis: [w_k_lsat]\n",
      ">Metropolis: [w_k_gpa]\n",
      ">Metropolis: [lsat0]\n",
      ">Metropolis: [gpa0]\n",
      ">Metropolis: [k]\n"
     ]
    },
    {
     "data": {
      "text/html": [
       "\n",
       "    <div>\n",
       "        <style>\n",
       "            /* Turns off some styling */\n",
       "            progress {\n",
       "                /* gets rid of default border in Firefox and Opera. */\n",
       "                border: none;\n",
       "                /* Needs to be in here for Safari polyfill so background images work as expected. */\n",
       "                background-size: auto;\n",
       "            }\n",
       "            .progress-bar-interrupted, .progress-bar-interrupted::-webkit-progress-bar {\n",
       "                background: #F44336;\n",
       "            }\n",
       "        </style>\n",
       "      <progress value='8000' class='' max='8000' style='width:300px; height:20px; vertical-align: middle;'></progress>\n",
       "      100.00% [8000/8000 00:33<00:00 Sampling 4 chains, 0 divergences]\n",
       "    </div>\n",
       "    "
      ],
      "text/plain": [
       "<IPython.core.display.HTML object>"
      ]
     },
     "metadata": {},
     "output_type": "display_data"
    },
    {
     "name": "stderr",
     "output_type": "stream",
     "text": [
      "Sampling 4 chains for 1_000 tune and 1_000 draw iterations (4_000 + 4_000 draws total) took 48 seconds.\n",
      "The rhat statistic is larger than 1.4 for some parameters. The sampler did not converge.\n",
      "The estimated number of effective samples is smaller than 200 for some parameters.\n"
     ]
    }
   ],
   "source": [
    "test_map_estimates = MCMC(df_test)"
   ]
  },
  {
   "cell_type": "code",
   "execution_count": 35,
   "metadata": {},
   "outputs": [
    {
     "data": {
      "text/plain": [
       "array([[-0.2111925 ],\n",
       "       [ 0.29696172],\n",
       "       [-0.16900098],\n",
       "       ...,\n",
       "       [-0.01713051],\n",
       "       [-0.07469816],\n",
       "       [-0.30665221]])"
      ]
     },
     "execution_count": 35,
     "metadata": {},
     "output_type": "execute_result"
    }
   ],
   "source": [
    "test_k = np.mean(test_map_estimates[\"k\"], axis=0).reshape(-1, 1)\n",
    "test_k"
   ]
  },
  {
   "cell_type": "markdown",
   "metadata": {},
   "source": [
    "We now build the Level 2 predictor, using $k$ as the input."
   ]
  },
  {
   "cell_type": "code",
   "execution_count": 37,
   "metadata": {},
   "outputs": [],
   "source": [
    "linreg_latent = LinearRegression()"
   ]
  },
  {
   "cell_type": "code",
   "execution_count": 38,
   "metadata": {},
   "outputs": [],
   "source": [
    "linreg_latent = linreg_latent.fit(train_k, df_train[\"ZFYA\"])"
   ]
  },
  {
   "cell_type": "code",
   "execution_count": 39,
   "metadata": {},
   "outputs": [
    {
     "data": {
      "text/plain": [
       "array([-0.01980993,  0.25255695,  0.00280441, ...,  0.08420585,\n",
       "        0.05335002, -0.07097563])"
      ]
     },
     "execution_count": 39,
     "metadata": {},
     "output_type": "execute_result"
    }
   ],
   "source": [
    "predictions_latent = linreg_latent.predict(test_k)\n",
    "predictions_latent"
   ]
  },
  {
   "cell_type": "code",
   "execution_count": 40,
   "metadata": {},
   "outputs": [
    {
     "name": "stdout",
     "output_type": "stream",
     "text": [
      "0.0067887409029733226\n"
     ]
    }
   ],
   "source": [
    "latent_score = linreg_latent.score(test_k, df_test[\"ZFYA\"])\n",
    "print(latent_score)"
   ]
  },
  {
   "cell_type": "code",
   "execution_count": 41,
   "metadata": {},
   "outputs": [
    {
     "name": "stdout",
     "output_type": "stream",
     "text": [
      "0.9244257176167182\n"
     ]
    }
   ],
   "source": [
    "RMSE_latent = np.sqrt(mean_squared_error(df_test[\"ZFYA\"], predictions_latent))\n",
    "print(RMSE_latent)"
   ]
  },
  {
   "cell_type": "markdown",
   "metadata": {},
   "source": [
    "## Additive error model"
   ]
  },
  {
   "cell_type": "markdown",
   "metadata": {},
   "source": [
    "Finally, in **Level 3**, we model `GPA`, `LSAT`, and `FYA` as continuous variables with additive error terms\n",
    "independent of race and sex[^1].\n",
    "\n",
    "[^1]: That may in turn be correlated with one-another.\n",
    "\n",
    "This corresponds to\n",
    "\n",
    "$$\n",
    "GPA = b_G + w^R_{GPA}R + w^S_{GPA}S + \\epsilon_{GPA}, \\epsilon_{GPA} \\sim p(\\epsilon_{GPA}) \\\\\n",
    "LSAT = b_L + w^R_{LSAT}R + w^S_{LSAT}S + \\epsilon_{LSAT}, \\epsilon_{LSAT} \\sim p(\\epsilon_{LSAT}) \\\\\n",
    "FYA = b_{FYA} + w^R_{FYA}R + w^S_{FYA}S + \\epsilon_{FYA} , \\epsilon_{FYA} \\sim p(\\epsilon_{FYA})\n",
    "$$"
   ]
  },
  {
   "cell_type": "markdown",
   "metadata": {},
   "source": [
    "We estimate the error terms $\\epsilon_{GPA}, \\epsilon_{LSAT}$ by first fitting two models that each use race and sex to individually\n",
    "predict `GPA` and `LSAT`. We then compute the residuals of each model (_e.g._, $\\epsilon_{GPA} =GPA−\\hat{Y}_{GPA}(R, S)$).\n",
    "We use these residual estimates of $\\epsilon_{GPA}, \\epsilon_{LSAT}$ to predict $FYA$. In {cite}`Kusner2017` this is called _Fair Add_."
   ]
  },
  {
   "cell_type": "markdown",
   "metadata": {},
   "source": [
    "Since the process is similar for the individual predictions for `GPA` and `LSAT`, we will write a method to avoid repetion."
   ]
  },
  {
   "cell_type": "code",
   "execution_count": 42,
   "metadata": {},
   "outputs": [],
   "source": [
    "def calculate_epsilon(data, var_name, protected_attr):\n",
    "    X = data[protected_attr]\n",
    "    y = data[var_name]\n",
    "\n",
    "    linreg = LinearRegression()\n",
    "    linreg = linreg.fit(X, y)\n",
    "\n",
    "    predictions = linreg.predict(X)\n",
    "\n",
    "    return data[var_name] - predictions"
   ]
  },
  {
   "cell_type": "markdown",
   "metadata": {},
   "source": [
    "Let's apply it to each variable, individually.\n",
    "First we calculate $\\epsilon_{GPA}$:"
   ]
  },
  {
   "cell_type": "code",
   "execution_count": 43,
   "metadata": {},
   "outputs": [
    {
     "data": {
      "text/plain": [
       "0       -0.241797\n",
       "1       -0.341797\n",
       "2       -0.100195\n",
       "5       -0.873242\n",
       "6        0.058203\n",
       "           ...   \n",
       "27472    0.799805\n",
       "27473    0.358203\n",
       "27474    0.658203\n",
       "27475   -0.300195\n",
       "27476   -0.100195\n",
       "Name: UGPA, Length: 21791, dtype: float64"
      ]
     },
     "execution_count": 43,
     "metadata": {},
     "output_type": "execute_result"
    }
   ],
   "source": [
    "epsilons_gpa = calculate_epsilon(df, \"UGPA\", A)\n",
    "epsilons_gpa"
   ]
  },
  {
   "cell_type": "markdown",
   "metadata": {},
   "source": [
    "Next, we calculate $\\epsilon_{LSAT}$:"
   ]
  },
  {
   "cell_type": "code",
   "execution_count": 44,
   "metadata": {},
   "outputs": [
    {
     "data": {
      "text/plain": [
       "0        1.789062\n",
       "1       -1.210938\n",
       "2       -7.689453\n",
       "5        5.054688\n",
       "6       -0.210938\n",
       "           ...   \n",
       "27472   -4.689453\n",
       "27473    0.789062\n",
       "27474   -1.210938\n",
       "27475   -6.689453\n",
       "27476   -9.689453\n",
       "Name: LSAT, Length: 21791, dtype: float64"
      ]
     },
     "execution_count": 44,
     "metadata": {},
     "output_type": "execute_result"
    }
   ],
   "source": [
    "epsilons_LSAT = calculate_epsilon(df, \"LSAT\", A)\n",
    "epsilons_LSAT"
   ]
  },
  {
   "cell_type": "markdown",
   "metadata": {},
   "source": [
    "Let's visualise the $\\epsilon$ distribution quickly:"
   ]
  },
  {
   "cell_type": "code",
   "execution_count": 45,
   "metadata": {
    "tags": [
     "hide-input"
    ]
   },
   "outputs": [
    {
     "data": {
      "image/png": "[encoded data removed]",
      "text/plain": [
       "<Figure size 907.2x453.6 with 2 Axes>"
      ]
     },
     "metadata": {
      "needs_background": "light"
     },
     "output_type": "display_data"
    }
   ],
   "source": [
    "import matplotlib.pyplot as plt\n",
    "import seaborn as sns\n",
    "\n",
    "from plotutils import *\n",
    "\n",
    "plt.subplot(1, 2, 1)\n",
    "sns.histplot(epsilons_gpa, kde=True)\n",
    "plt.title(\"$\\epsilon_{GPA}$\")\n",
    "plt.xlabel(\"$\\epsilon_{GPA}$\")\n",
    "\n",
    "plt.subplot(1, 2, 2)\n",
    "sns.histplot(epsilons_LSAT, kde=True)\n",
    "plt.title(\"$\\epsilon_{LSAT}$\")\n",
    "plt.xlabel(\"$\\epsilon_{LSAT}$\")\n",
    "plt.show()"
   ]
  },
  {
   "cell_type": "markdown",
   "metadata": {},
   "source": [
    "We finally use the calculated $\\epsilon$ to train a model in order to predict `FYA`.\n",
    "We start by getting the subset of the $\\epsilon$ which match the training indices."
   ]
  },
  {
   "cell_type": "code",
   "execution_count": 46,
   "metadata": {},
   "outputs": [
    {
     "data": {
      "text/plain": [
       "array([[-0.24179687,  1.7890625 ],\n",
       "       [ 0.15820312, -1.2109375 ],\n",
       "       [ 0.55820312,  8.7890625 ],\n",
       "       ...,\n",
       "       [-0.44179688, -4.2109375 ],\n",
       "       [-0.25087891, -4.7265625 ],\n",
       "       [ 0.39980469,  1.31054688]])"
      ]
     },
     "execution_count": 46,
     "metadata": {},
     "output_type": "execute_result"
    }
   ],
   "source": [
    "X = np.hstack(\n",
    "    (\n",
    "        np.array(epsilons_gpa[df_train.index]).reshape(-1, 1),\n",
    "        np.array(epsilons_LSAT[df_train.index]).reshape(-1, 1),\n",
    "    )\n",
    ")\n",
    "X"
   ]
  },
  {
   "cell_type": "code",
   "execution_count": 47,
   "metadata": {},
   "outputs": [],
   "source": [
    "linreg_fair_add = LinearRegression()\n",
    "\n",
    "linreg_fair_add = linreg_fair_add.fit(\n",
    "    X,\n",
    "    df_train[\"ZFYA\"],\n",
    ")"
   ]
  },
  {
   "cell_type": "markdown",
   "metadata": {},
   "source": [
    "We now use this model to calculate the predictions"
   ]
  },
  {
   "cell_type": "code",
   "execution_count": 54,
   "metadata": {},
   "outputs": [
    {
     "data": {
      "text/plain": [
       "array([-0.04394693,  0.24454891,  0.35558793, ..., -0.38844376,\n",
       "        0.06136776,  0.01295201])"
      ]
     },
     "execution_count": 54,
     "metadata": {},
     "output_type": "execute_result"
    }
   ],
   "source": [
    "X_test = np.hstack(\n",
    "    (\n",
    "        np.array(epsilons_gpa[df_test.index]).reshape(-1, 1),\n",
    "        np.array(epsilons_LSAT[df_test.index]).reshape(-1, 1),\n",
    "    )\n",
    ")\n",
    "\n",
    "predictions_fair_add = linreg_fair_add.predict(X_test)\n",
    "predictions_fair_add"
   ]
  },
  {
   "cell_type": "markdown",
   "metadata": {},
   "source": [
    "And as previously, we calculate the model's score:"
   ]
  },
  {
   "cell_type": "code",
   "execution_count": 55,
   "metadata": {},
   "outputs": [
    {
     "name": "stdout",
     "output_type": "stream",
     "text": [
      "0.04475841449183948\n"
     ]
    }
   ],
   "source": [
    "fair_add_score = linreg_fair_add.score(X_test, df_test[\"ZFYA\"])\n",
    "print(fair_add_score)"
   ]
  },
  {
   "cell_type": "code",
   "execution_count": 57,
   "metadata": {},
   "outputs": [
    {
     "name": "stdout",
     "output_type": "stream",
     "text": [
      "0.9065835039365202\n"
     ]
    }
   ],
   "source": [
    "RMSE_fair_add = np.sqrt(mean_squared_error(df_test[\"ZFYA\"], predictions_fair_add))\n",
    "print(RMSE_fair_add)"
   ]
  },
  {
   "cell_type": "markdown",
   "metadata": {},
   "source": [
    "## Comparison"
   ]
  },
  {
   "cell_type": "markdown",
   "metadata": {},
   "source": [
    "The score so far are:"
   ]
  },
  {
   "cell_type": "code",
   "execution_count": 59,
   "metadata": {},
   "outputs": [
    {
     "name": "stdout",
     "output_type": "stream",
     "text": [
      "Unfair score:\t0.12701634112845117\n",
      "FTU score:\t0.0917442226187073\n",
      "L2 score:\t0.0067887409029733226\n",
      "Fair add score:\t0.04475841449183948\n"
     ]
    }
   ],
   "source": [
    "print(f\"Unfair score:\\t{score_unfair}\")\n",
    "print(f\"FTU score:\\t{ftu_score}\")\n",
    "print(f\"L2 score:\\t{latent_score}\")\n",
    "print(f\"Fair add score:\\t{fair_add_score}\")"
   ]
  },
  {
   "cell_type": "code",
   "execution_count": 60,
   "metadata": {},
   "outputs": [
    {
     "name": "stdout",
     "output_type": "stream",
     "text": [
      "Unfair RMSE:\t0.8666709890234552\n",
      "FTU RMSE:\t0.8840061503773576\n",
      "L2 RMSE:\t0.9244257176167182\n",
      "Fair add RMSE:\t0.9065835039365202\n"
     ]
    }
   ],
   "source": [
    "print(f\"Unfair RMSE:\\t{RMSE_unfair}\")\n",
    "print(f\"FTU RMSE:\\t{RMSE_ftu}\")\n",
    "print(f\"L2 RMSE:\\t{RMSE_latent}\")\n",
    "print(f\"Fair add RMSE:\\t{RMSE_fair_add}\")"
   ]
  },
  {
   "cell_type": "markdown",
   "metadata": {},
   "source": [
    "## References\n",
    "\n",
    "```{bibliography} ./references.bib\n",
    ":filter: docname in docnames\n",
    "```"
   ]
  },
  {
   "cell_type": "code",
   "execution_count": null,
   "metadata": {},
   "outputs": [],
   "source": []
  }
 ],
 "metadata": {
  "kernelspec": {
   "display_name": "ml",
   "language": "python",
   "name": "ml"
  },
  "language_info": {
   "codemirror_mode": {
    "name": "ipython",
    "version": 3
   },
   "file_extension": ".py",
   "mimetype": "text/x-python",
   "name": "python",
   "nbconvert_exporter": "python",
   "pygments_lexer": "ipython3",
   "version": "3.8.5"
  },
  "toc-showtags": false
 },
 "nbformat": 4,
 "nbformat_minor": 4
}
