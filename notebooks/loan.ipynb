{
 "metadata": {
  "language_info": {
   "codemirror_mode": {
    "name": "ipython",
    "version": 3
   },
   "file_extension": ".py",
   "mimetype": "text/x-python",
   "name": "python",
   "nbconvert_exporter": "python",
   "pygments_lexer": "ipython3",
   "version": "3.7.3-final"
  },
  "orig_nbformat": 2,
  "kernelspec": {
   "name": "explainability-experiments",
   "display_name": "explainability-experiments"
  }
 },
 "nbformat": 4,
 "nbformat_minor": 2,
 "cells": [
  {
   "cell_type": "code",
   "execution_count": 1,
   "metadata": {},
   "outputs": [],
   "source": [
    "import pandas as pd\n",
    "import sklearn\n",
    "import numpy as np\n",
    "from scipy import optimize\n",
    "from scipy.optimize import brute\n",
    "from scipy.optimize import minimize\n",
    "from scipy.optimize import minimize_scalar\n",
    "from sklearn.model_selection import train_test_split, RandomizedSearchCV\n",
    "from sklearn import preprocessing\n",
    "from sklearn.ensemble import RandomForestClassifier\n",
    "from sklearn2pmml.pipeline import PMMLPipeline\n",
    "import matplotlib.pyplot as plt"
   ]
  },
  {
   "cell_type": "code",
   "execution_count": 2,
   "metadata": {},
   "outputs": [
    {
     "output_type": "execute_result",
     "data": {
      "text/plain": "        ID CODE_GENDER FLAG_OWN_CAR FLAG_OWN_REALTY  CNT_CHILDREN  \\\n0  5008804           M            Y               Y             0   \n1  5008805           M            Y               Y             0   \n2  5008806           M            Y               Y             0   \n3  5008808           F            N               Y             0   \n4  5008809           F            N               Y             0   \n\n   AMT_INCOME_TOTAL      NAME_INCOME_TYPE            NAME_EDUCATION_TYPE  \\\n0          427500.0               Working               Higher education   \n1          427500.0               Working               Higher education   \n2          112500.0               Working  Secondary / secondary special   \n3          270000.0  Commercial associate  Secondary / secondary special   \n4          270000.0  Commercial associate  Secondary / secondary special   \n\n     NAME_FAMILY_STATUS  NAME_HOUSING_TYPE  DAYS_BIRTH  DAYS_EMPLOYED  \\\n0        Civil marriage   Rented apartment      -12005          -4542   \n1        Civil marriage   Rented apartment      -12005          -4542   \n2               Married  House / apartment      -21474          -1134   \n3  Single / not married  House / apartment      -19110          -3051   \n4  Single / not married  House / apartment      -19110          -3051   \n\n   FLAG_MOBIL  FLAG_WORK_PHONE  FLAG_PHONE  FLAG_EMAIL OCCUPATION_TYPE  \\\n0           1                1           0           0             NaN   \n1           1                1           0           0             NaN   \n2           1                0           0           0  Security staff   \n3           1                0           1           1     Sales staff   \n4           1                0           1           1     Sales staff   \n\n   CNT_FAM_MEMBERS  \n0              2.0  \n1              2.0  \n2              2.0  \n3              1.0  \n4              1.0  ",
      "text/html": "<div>\n<style scoped>\n    .dataframe tbody tr th:only-of-type {\n        vertical-align: middle;\n    }\n\n    .dataframe tbody tr th {\n        vertical-align: top;\n    }\n\n    .dataframe thead th {\n        text-align: right;\n    }\n</style>\n<table border=\"1\" class=\"dataframe\">\n  <thead>\n    <tr style=\"text-align: right;\">\n      <th></th>\n      <th>ID</th>\n      <th>CODE_GENDER</th>\n      <th>FLAG_OWN_CAR</th>\n      <th>FLAG_OWN_REALTY</th>\n      <th>CNT_CHILDREN</th>\n      <th>AMT_INCOME_TOTAL</th>\n      <th>NAME_INCOME_TYPE</th>\n      <th>NAME_EDUCATION_TYPE</th>\n      <th>NAME_FAMILY_STATUS</th>\n      <th>NAME_HOUSING_TYPE</th>\n      <th>DAYS_BIRTH</th>\n      <th>DAYS_EMPLOYED</th>\n      <th>FLAG_MOBIL</th>\n      <th>FLAG_WORK_PHONE</th>\n      <th>FLAG_PHONE</th>\n      <th>FLAG_EMAIL</th>\n      <th>OCCUPATION_TYPE</th>\n      <th>CNT_FAM_MEMBERS</th>\n    </tr>\n  </thead>\n  <tbody>\n    <tr>\n      <th>0</th>\n      <td>5008804</td>\n      <td>M</td>\n      <td>Y</td>\n      <td>Y</td>\n      <td>0</td>\n      <td>427500.0</td>\n      <td>Working</td>\n      <td>Higher education</td>\n      <td>Civil marriage</td>\n      <td>Rented apartment</td>\n      <td>-12005</td>\n      <td>-4542</td>\n      <td>1</td>\n      <td>1</td>\n      <td>0</td>\n      <td>0</td>\n      <td>NaN</td>\n      <td>2.0</td>\n    </tr>\n    <tr>\n      <th>1</th>\n      <td>5008805</td>\n      <td>M</td>\n      <td>Y</td>\n      <td>Y</td>\n      <td>0</td>\n      <td>427500.0</td>\n      <td>Working</td>\n      <td>Higher education</td>\n      <td>Civil marriage</td>\n      <td>Rented apartment</td>\n      <td>-12005</td>\n      <td>-4542</td>\n      <td>1</td>\n      <td>1</td>\n      <td>0</td>\n      <td>0</td>\n      <td>NaN</td>\n      <td>2.0</td>\n    </tr>\n    <tr>\n      <th>2</th>\n      <td>5008806</td>\n      <td>M</td>\n      <td>Y</td>\n      <td>Y</td>\n      <td>0</td>\n      <td>112500.0</td>\n      <td>Working</td>\n      <td>Secondary / secondary special</td>\n      <td>Married</td>\n      <td>House / apartment</td>\n      <td>-21474</td>\n      <td>-1134</td>\n      <td>1</td>\n      <td>0</td>\n      <td>0</td>\n      <td>0</td>\n      <td>Security staff</td>\n      <td>2.0</td>\n    </tr>\n    <tr>\n      <th>3</th>\n      <td>5008808</td>\n      <td>F</td>\n      <td>N</td>\n      <td>Y</td>\n      <td>0</td>\n      <td>270000.0</td>\n      <td>Commercial associate</td>\n      <td>Secondary / secondary special</td>\n      <td>Single / not married</td>\n      <td>House / apartment</td>\n      <td>-19110</td>\n      <td>-3051</td>\n      <td>1</td>\n      <td>0</td>\n      <td>1</td>\n      <td>1</td>\n      <td>Sales staff</td>\n      <td>1.0</td>\n    </tr>\n    <tr>\n      <th>4</th>\n      <td>5008809</td>\n      <td>F</td>\n      <td>N</td>\n      <td>Y</td>\n      <td>0</td>\n      <td>270000.0</td>\n      <td>Commercial associate</td>\n      <td>Secondary / secondary special</td>\n      <td>Single / not married</td>\n      <td>House / apartment</td>\n      <td>-19110</td>\n      <td>-3051</td>\n      <td>1</td>\n      <td>0</td>\n      <td>1</td>\n      <td>1</td>\n      <td>Sales staff</td>\n      <td>1.0</td>\n    </tr>\n  </tbody>\n</table>\n</div>"
     },
     "metadata": {},
     "execution_count": 2
    }
   ],
   "source": [
    "df = pd.read_csv('../data/application_record.csv')\n",
    "df.head()"
   ]
  },
  {
   "cell_type": "code",
   "execution_count": 3,
   "metadata": {},
   "outputs": [
    {
     "output_type": "execute_result",
     "data": {
      "text/plain": "                 ID   CNT_CHILDREN  AMT_INCOME_TOTAL     DAYS_BIRTH  \\\ncount  4.385570e+05  438557.000000      4.385570e+05  438557.000000   \nmean   6.022176e+06       0.427390      1.875243e+05  -15997.904649   \nstd    5.716370e+05       0.724882      1.100869e+05    4185.030007   \nmin    5.008804e+06       0.000000      2.610000e+04  -25201.000000   \n25%    5.609375e+06       0.000000      1.215000e+05  -19483.000000   \n50%    6.047745e+06       0.000000      1.607805e+05  -15630.000000   \n75%    6.456971e+06       1.000000      2.250000e+05  -12514.000000   \nmax    7.999952e+06      19.000000      6.750000e+06   -7489.000000   \n\n       DAYS_EMPLOYED  FLAG_MOBIL  FLAG_WORK_PHONE     FLAG_PHONE  \\\ncount  438557.000000    438557.0    438557.000000  438557.000000   \nmean    60563.675328         1.0         0.206133       0.287771   \nstd    138767.799647         0.0         0.404527       0.452724   \nmin    -17531.000000         1.0         0.000000       0.000000   \n25%     -3103.000000         1.0         0.000000       0.000000   \n50%     -1467.000000         1.0         0.000000       0.000000   \n75%      -371.000000         1.0         0.000000       1.000000   \nmax    365243.000000         1.0         1.000000       1.000000   \n\n          FLAG_EMAIL  CNT_FAM_MEMBERS  \ncount  438557.000000    438557.000000  \nmean        0.108207         2.194465  \nstd         0.310642         0.897207  \nmin         0.000000         1.000000  \n25%         0.000000         2.000000  \n50%         0.000000         2.000000  \n75%         0.000000         3.000000  \nmax         1.000000        20.000000  ",
      "text/html": "<div>\n<style scoped>\n    .dataframe tbody tr th:only-of-type {\n        vertical-align: middle;\n    }\n\n    .dataframe tbody tr th {\n        vertical-align: top;\n    }\n\n    .dataframe thead th {\n        text-align: right;\n    }\n</style>\n<table border=\"1\" class=\"dataframe\">\n  <thead>\n    <tr style=\"text-align: right;\">\n      <th></th>\n      <th>ID</th>\n      <th>CNT_CHILDREN</th>\n      <th>AMT_INCOME_TOTAL</th>\n      <th>DAYS_BIRTH</th>\n      <th>DAYS_EMPLOYED</th>\n      <th>FLAG_MOBIL</th>\n      <th>FLAG_WORK_PHONE</th>\n      <th>FLAG_PHONE</th>\n      <th>FLAG_EMAIL</th>\n      <th>CNT_FAM_MEMBERS</th>\n    </tr>\n  </thead>\n  <tbody>\n    <tr>\n      <th>count</th>\n      <td>4.385570e+05</td>\n      <td>438557.000000</td>\n      <td>4.385570e+05</td>\n      <td>438557.000000</td>\n      <td>438557.000000</td>\n      <td>438557.0</td>\n      <td>438557.000000</td>\n      <td>438557.000000</td>\n      <td>438557.000000</td>\n      <td>438557.000000</td>\n    </tr>\n    <tr>\n      <th>mean</th>\n      <td>6.022176e+06</td>\n      <td>0.427390</td>\n      <td>1.875243e+05</td>\n      <td>-15997.904649</td>\n      <td>60563.675328</td>\n      <td>1.0</td>\n      <td>0.206133</td>\n      <td>0.287771</td>\n      <td>0.108207</td>\n      <td>2.194465</td>\n    </tr>\n    <tr>\n      <th>std</th>\n      <td>5.716370e+05</td>\n      <td>0.724882</td>\n      <td>1.100869e+05</td>\n      <td>4185.030007</td>\n      <td>138767.799647</td>\n      <td>0.0</td>\n      <td>0.404527</td>\n      <td>0.452724</td>\n      <td>0.310642</td>\n      <td>0.897207</td>\n    </tr>\n    <tr>\n      <th>min</th>\n      <td>5.008804e+06</td>\n      <td>0.000000</td>\n      <td>2.610000e+04</td>\n      <td>-25201.000000</td>\n      <td>-17531.000000</td>\n      <td>1.0</td>\n      <td>0.000000</td>\n      <td>0.000000</td>\n      <td>0.000000</td>\n      <td>1.000000</td>\n    </tr>\n    <tr>\n      <th>25%</th>\n      <td>5.609375e+06</td>\n      <td>0.000000</td>\n      <td>1.215000e+05</td>\n      <td>-19483.000000</td>\n      <td>-3103.000000</td>\n      <td>1.0</td>\n      <td>0.000000</td>\n      <td>0.000000</td>\n      <td>0.000000</td>\n      <td>2.000000</td>\n    </tr>\n    <tr>\n      <th>50%</th>\n      <td>6.047745e+06</td>\n      <td>0.000000</td>\n      <td>1.607805e+05</td>\n      <td>-15630.000000</td>\n      <td>-1467.000000</td>\n      <td>1.0</td>\n      <td>0.000000</td>\n      <td>0.000000</td>\n      <td>0.000000</td>\n      <td>2.000000</td>\n    </tr>\n    <tr>\n      <th>75%</th>\n      <td>6.456971e+06</td>\n      <td>1.000000</td>\n      <td>2.250000e+05</td>\n      <td>-12514.000000</td>\n      <td>-371.000000</td>\n      <td>1.0</td>\n      <td>0.000000</td>\n      <td>1.000000</td>\n      <td>0.000000</td>\n      <td>3.000000</td>\n    </tr>\n    <tr>\n      <th>max</th>\n      <td>7.999952e+06</td>\n      <td>19.000000</td>\n      <td>6.750000e+06</td>\n      <td>-7489.000000</td>\n      <td>365243.000000</td>\n      <td>1.0</td>\n      <td>1.000000</td>\n      <td>1.000000</td>\n      <td>1.000000</td>\n      <td>20.000000</td>\n    </tr>\n  </tbody>\n</table>\n</div>"
     },
     "metadata": {},
     "execution_count": 3
    }
   ],
   "source": [
    "df.describe()"
   ]
  },
  {
   "cell_type": "code",
   "execution_count": 4,
   "metadata": {},
   "outputs": [],
   "source": [
    "df['AGE'] = -df['DAYS_BIRTH']/365.0\n",
    "df['DAYS_EMPLOYED'] = -df['DAYS_EMPLOYED']"
   ]
  },
  {
   "cell_type": "code",
   "execution_count": 5,
   "metadata": {},
   "outputs": [],
   "source": [
    "# drop bad columns\n",
    "df = df.dropna()"
   ]
  },
  {
   "cell_type": "code",
   "execution_count": 6,
   "metadata": {
    "tags": []
   },
   "outputs": [
    {
     "output_type": "execute_result",
     "data": {
      "text/plain": "count     304354\nunique         2\ntop         True\nfreq      158752\nName: APPROVED, dtype: object"
     },
     "metadata": {},
     "execution_count": 6
    }
   ],
   "source": [
    "from random import random\n",
    "def calculate_approval(row):\n",
    "    p = 1.0\n",
    "\n",
    "    if row['AGE'] < 30:\n",
    "        p = p - 0.3\n",
    "    elif row['AGE'] >= 30 and row['AGE'] < 50:\n",
    "        p = p - 0.2\n",
    "    elif row['AGE'] >= 50:\n",
    "        p = p -  0.1\n",
    "\n",
    "    if row['CNT_CHILDREN'] == 0:\n",
    "        p = p -  0.1\n",
    "    elif row['CNT_CHILDREN'] > 0 and row['CNT_CHILDREN'] < 2:\n",
    "        p = p - 0.2\n",
    "    else:\n",
    "        p = p - 0.3\n",
    "\n",
    "    if row['AMT_INCOME_TOTAL'] < 50000:\n",
    "        p = p - 0.3\n",
    "    elif row['AMT_INCOME_TOTAL'] >= 50000 and row['AMT_INCOME_TOTAL'] < 100000:\n",
    "        p = p - 0.2\n",
    "    elif row['AMT_INCOME_TOTAL'] >= 100000 and row['AMT_INCOME_TOTAL'] < 200000:\n",
    "        p = p - 0.1\n",
    "\n",
    "    if row['DAYS_EMPLOYED'] < 365:\n",
    "        p = p -  0.2\n",
    "    elif row['DAYS_EMPLOYED'] >= 365 and row['DAYS_EMPLOYED'] < 2000:\n",
    "        p = p - 0.1\n",
    "\n",
    "    if row['FLAG_OWN_REALTY'] == 0.0:\n",
    "        p = p -  0.1\n",
    "\n",
    "    if row['FLAG_OWN_CAR'] == 0.0:\n",
    "        p = p - 0.05\n",
    "\n",
    "    return random() < p\n",
    "\n",
    "\n",
    "\n",
    "df['APPROVED'] = df.apply(calculate_approval, axis=1)\n",
    "df['APPROVED'].describe()"
   ]
  },
  {
   "cell_type": "code",
   "execution_count": 7,
   "metadata": {},
   "outputs": [],
   "source": [
    "inputs = df[['FLAG_OWN_CAR', 'FLAG_OWN_REALTY', 'CNT_CHILDREN', 'AMT_INCOME_TOTAL', 'AGE', 'DAYS_EMPLOYED', 'FLAG_WORK_PHONE']]\n",
    "outputs = df['APPROVED'].eq(True).mul(1)\n",
    "inputs['FLAG_OWN_CAR'] = inputs['FLAG_OWN_CAR'].eq('Y').mul(1)\n",
    "inputs['FLAG_OWN_REALTY'] = inputs['FLAG_OWN_REALTY'].eq('Y').mul(1)"
   ]
  },
  {
   "cell_type": "code",
   "execution_count": 8,
   "metadata": {},
   "outputs": [],
   "source": [
    "# split dataset\n",
    "X_train, X_test, y_train, y_test = train_test_split(inputs, outputs, test_size=0.4, random_state=23)"
   ]
  },
  {
   "cell_type": "code",
   "execution_count": 10,
   "metadata": {},
   "outputs": [
    {
     "output_type": "execute_result",
     "data": {
      "text/plain": "        FLAG_OWN_CAR  FLAG_OWN_REALTY  CNT_CHILDREN  AMT_INCOME_TOTAL  \\\n101910             0                1             0          135000.0   \n325039             1                1             0          315000.0   \n396383             0                1             0          112500.0   \n422056             0                0             0          157500.0   \n350142             0                1             0          180000.0   \n...              ...              ...           ...               ...   \n292096             0                0             1          112500.0   \n391884             0                1             0          225000.0   \n321053             0                0             1          157500.0   \n391182             0                1             0          292500.0   \n184575             0                1             0          135000.0   \n\n              AGE  DAYS_EMPLOYED  FLAG_WORK_PHONE  \n101910  61.304110           1279                0  \n325039  32.665753           1205                0  \n396383  47.161644            942                1  \n422056  23.797260            239                1  \n350142  54.443836            453                0  \n...           ...            ...              ...  \n292096  30.597260           4548                0  \n391884  36.550685           3893                0  \n321053  33.989041            480                0  \n391182  36.726027           4777                1  \n184575  55.191781           1510                0  \n\n[182612 rows x 7 columns]",
      "text/html": "<div>\n<style scoped>\n    .dataframe tbody tr th:only-of-type {\n        vertical-align: middle;\n    }\n\n    .dataframe tbody tr th {\n        vertical-align: top;\n    }\n\n    .dataframe thead th {\n        text-align: right;\n    }\n</style>\n<table border=\"1\" class=\"dataframe\">\n  <thead>\n    <tr style=\"text-align: right;\">\n      <th></th>\n      <th>FLAG_OWN_CAR</th>\n      <th>FLAG_OWN_REALTY</th>\n      <th>CNT_CHILDREN</th>\n      <th>AMT_INCOME_TOTAL</th>\n      <th>AGE</th>\n      <th>DAYS_EMPLOYED</th>\n      <th>FLAG_WORK_PHONE</th>\n    </tr>\n  </thead>\n  <tbody>\n    <tr>\n      <th>101910</th>\n      <td>0</td>\n      <td>1</td>\n      <td>0</td>\n      <td>135000.0</td>\n      <td>61.304110</td>\n      <td>1279</td>\n      <td>0</td>\n    </tr>\n    <tr>\n      <th>325039</th>\n      <td>1</td>\n      <td>1</td>\n      <td>0</td>\n      <td>315000.0</td>\n      <td>32.665753</td>\n      <td>1205</td>\n      <td>0</td>\n    </tr>\n    <tr>\n      <th>396383</th>\n      <td>0</td>\n      <td>1</td>\n      <td>0</td>\n      <td>112500.0</td>\n      <td>47.161644</td>\n      <td>942</td>\n      <td>1</td>\n    </tr>\n    <tr>\n      <th>422056</th>\n      <td>0</td>\n      <td>0</td>\n      <td>0</td>\n      <td>157500.0</td>\n      <td>23.797260</td>\n      <td>239</td>\n      <td>1</td>\n    </tr>\n    <tr>\n      <th>350142</th>\n      <td>0</td>\n      <td>1</td>\n      <td>0</td>\n      <td>180000.0</td>\n      <td>54.443836</td>\n      <td>453</td>\n      <td>0</td>\n    </tr>\n    <tr>\n      <th>...</th>\n      <td>...</td>\n      <td>...</td>\n      <td>...</td>\n      <td>...</td>\n      <td>...</td>\n      <td>...</td>\n      <td>...</td>\n    </tr>\n    <tr>\n      <th>292096</th>\n      <td>0</td>\n      <td>0</td>\n      <td>1</td>\n      <td>112500.0</td>\n      <td>30.597260</td>\n      <td>4548</td>\n      <td>0</td>\n    </tr>\n    <tr>\n      <th>391884</th>\n      <td>0</td>\n      <td>1</td>\n      <td>0</td>\n      <td>225000.0</td>\n      <td>36.550685</td>\n      <td>3893</td>\n      <td>0</td>\n    </tr>\n    <tr>\n      <th>321053</th>\n      <td>0</td>\n      <td>0</td>\n      <td>1</td>\n      <td>157500.0</td>\n      <td>33.989041</td>\n      <td>480</td>\n      <td>0</td>\n    </tr>\n    <tr>\n      <th>391182</th>\n      <td>0</td>\n      <td>1</td>\n      <td>0</td>\n      <td>292500.0</td>\n      <td>36.726027</td>\n      <td>4777</td>\n      <td>1</td>\n    </tr>\n    <tr>\n      <th>184575</th>\n      <td>0</td>\n      <td>1</td>\n      <td>0</td>\n      <td>135000.0</td>\n      <td>55.191781</td>\n      <td>1510</td>\n      <td>0</td>\n    </tr>\n  </tbody>\n</table>\n<p>182612 rows × 7 columns</p>\n</div>"
     },
     "metadata": {},
     "execution_count": 10
    }
   ],
   "source": [
    "X_train"
   ]
  },
  {
   "cell_type": "code",
   "execution_count": 11,
   "metadata": {
    "tags": []
   },
   "outputs": [],
   "source": [
    "from sklearn_pandas import DataFrameMapper\n",
    "\n",
    "def build_RF_pipeline(inputs, outputs, rf=None):\n",
    "    if not rf:\n",
    "        rf = RandomForestClassifier()\n",
    "    pipeline = PMMLPipeline([\n",
    "        (\"mapper\", DataFrameMapper([\n",
    "            (['FLAG_OWN_CAR', 'FLAG_OWN_REALTY', 'FLAG_WORK_PHONE'], preprocessing.OrdinalEncoder()),\n",
    "            (['CNT_CHILDREN', 'AMT_INCOME_TOTAL', 'AGE', 'DAYS_EMPLOYED'], None)\n",
    "        ])),\n",
    "        (\"classifier\", rf)\n",
    "    ])\n",
    "    pipeline.fit(inputs, outputs)\n",
    "    return pipeline"
   ]
  },
  {
   "cell_type": "code",
   "execution_count": 12,
   "metadata": {
    "tags": []
   },
   "outputs": [],
   "source": [
    "\n",
    "def RF_estimation(inputs, outputs,\n",
    "                  estimator_steps=10,\n",
    "                  depth_steps=10,\n",
    "                  min_samples_split=None,\n",
    "                  min_samples_leaf=None):\n",
    "    # hyper-parameter estimation\n",
    "    n_estimators = [int(x) for x in np.linspace(start=50, stop=100, num=estimator_steps)]\n",
    "    max_depth = [int(x) for x in np.linspace(3, 10, num=depth_steps)]\n",
    "    max_depth.append(None)\n",
    "    if not min_samples_split:\n",
    "        min_samples_split = [1, 2, 4]\n",
    "    if not min_samples_leaf:\n",
    "        min_samples_leaf = [1, 2, 4]\n",
    "    bootstrap = [True, False]\n",
    "    random_grid = {'n_estimators': n_estimators,\n",
    "                   'max_depth': max_depth,\n",
    "                   'min_samples_split': min_samples_split,\n",
    "                   'min_samples_leaf': min_samples_leaf,\n",
    "                   'bootstrap': bootstrap}\n",
    "\n",
    "    rf_random = RandomizedSearchCV(estimator=RandomForestClassifier(), param_distributions=random_grid,\n",
    "                                   n_iter=100, scoring='neg_mean_absolute_error',\n",
    "                                   cv=3, verbose=1, random_state=42, n_jobs=-1)\n",
    "    rf_random.fit(inputs, outputs)\n",
    "    best_random = rf_random.best_estimator_\n",
    "    print(best_random)\n",
    "    return best_random"
   ]
  },
  {
   "cell_type": "code",
   "execution_count": 13,
   "metadata": {
    "tags": []
   },
   "outputs": [
    {
     "output_type": "stream",
     "name": "stdout",
     "text": "Fitting 3 folds for each of 100 candidates, totalling 300 fits\n[Parallel(n_jobs=-1)]: Using backend LokyBackend with 8 concurrent workers.\n[Parallel(n_jobs=-1)]: Done  34 tasks      | elapsed:   33.8s\n[Parallel(n_jobs=-1)]: Done 184 tasks      | elapsed:  4.2min\n[Parallel(n_jobs=-1)]: Done 300 out of 300 | elapsed:  6.1min finished\nRandomForestClassifier(bootstrap=False, max_depth=7, min_samples_leaf=4,\n                       min_samples_split=4, n_estimators=83)\n"
    }
   ],
   "source": [
    "rf = RF_estimation(X_train, y_train, estimator_steps=4, depth_steps=4)\n",
    "random_forest_pipeline = build_RF_pipeline(X_train, y_train, rf)"
   ]
  },
  {
   "cell_type": "code",
   "execution_count": 14,
   "metadata": {
    "tags": []
   },
   "outputs": [
    {
     "output_type": "stream",
     "name": "stdout",
     "text": "MSE: 61.845542212219286%\n"
    }
   ],
   "source": [
    "rf_predictions = random_forest_pipeline.predict(X_test)\n",
    "print(f\"MSE: {random_forest_pipeline.score(X_test, y_test)*100}%\")"
   ]
  },
  {
   "cell_type": "code",
   "execution_count": 15,
   "metadata": {
    "tags": []
   },
   "outputs": [],
   "source": [
    "# skl_to_pmml(random_forest_pipeline, ['age', 'income', 'response'], 'segment',\"models/rf_segmentation_small.pmml\")\n",
    "from sklearn2pmml import sklearn2pmml\n",
    "\n",
    "sklearn2pmml(random_forest_pipeline, \"../models/loan.pmml\", with_repr = True)"
   ]
  },
  {
   "cell_type": "code",
   "execution_count": null,
   "metadata": {},
   "outputs": [],
   "source": []
  }
 ]
}