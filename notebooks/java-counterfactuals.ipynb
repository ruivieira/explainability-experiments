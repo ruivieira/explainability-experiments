{
 "cells": [
  {
   "cell_type": "code",
   "execution_count": 4,
   "metadata": {},
   "outputs": [],
   "source": [
    "%jars ../explainability-core-experiments/counterfactuals/target/explainability-counterfactuals-jar-with-dependencies.jar"
   ]
  },
  {
   "cell_type": "markdown",
   "metadata": {},
   "source": [
    "# Counterfactuals with OptaPlanner"
   ]
  },
  {
   "cell_type": "code",
   "execution_count": 5,
   "metadata": {},
   "outputs": [],
   "source": [
    "Random random = new Random();\n",
    "TimeUnit predictionTimeUnit = TimeUnit.SECONDS;\n",
    "long predictionTimeOut = 10L;"
   ]
  },
  {
   "cell_type": "code",
   "execution_count": 6,
   "metadata": {},
   "outputs": [
    {
     "name": "stderr",
     "output_type": "stream",
     "text": [
      "[pool-2-thread-1] INFO org.optaplanner.core.impl.solver.DefaultSolver - Solving started: time spent (1), best score ([-1.0/0]hard/[0.0]soft), environment mode (REPRODUCIBLE), random (JDK with seed 0).\n",
      "[pool-2-thread-1] INFO org.optaplanner.core.impl.localsearch.DefaultLocalSearchPhase - Local Search phase (0) ended: time spent (5000), best score ([0.0/0]hard/[-237.03978194829008]soft), score calculation speed (53351/sec), step total (6).\n",
      "[pool-2-thread-1] INFO org.optaplanner.core.impl.solver.DefaultSolver - Solving ended: time spent (5000), best score ([0.0/0]hard/[-237.03978194829008]soft), score calculation speed (53319/sec), phase total (1), environment mode (REPRODUCIBLE).\n"
     ]
    },
    {
     "name": "stdout",
     "output_type": "stream",
     "text": [
      "DoubleFeature{value=100.09998642052497, doubleRangeMinimum=0.0, doubleRangeMaximum=1000.0, id='f-num1'}\n",
      "DoubleFeature{value=150.0, doubleRangeMinimum=0.0, doubleRangeMaximum=1000.0, id='f-num2'}\n",
      "DoubleFeature{value=237.9397955277651, doubleRangeMinimum=0.0, doubleRangeMaximum=1000.0, id='f-num3'}\n",
      "DoubleFeature{value=2.0, doubleRangeMinimum=0.0, doubleRangeMaximum=1000.0, id='f-num4'}\n"
     ]
    }
   ],
   "source": [
    "import org.kie.kogito.explainability.model.*;\n",
    "import org.kie.kogito.explainability.local.counterfactual.*;\n",
    "import org.kie.kogito.explainability.local.counterfactual.TestUtils;\n",
    "import org.kie.kogito.explainability.Config;\n",
    "import org.kie.kogito.explainability.local.counterfactual.entities.CounterfactualEntity;\n",
    "\n",
    "List<Output> goal = List.of(new Output(\"inside\", Type.BOOLEAN, new Value<>(true), 1d));\n",
    "\n",
    "List<Feature> features = new LinkedList<>();\n",
    "\n",
    "List<FeatureBoundary> featureBoundaries = new LinkedList<>();\n",
    "List<Boolean> constraints = new LinkedList<>();\n",
    "features.add(FeatureFactory.newNumericalFeature(\"f-num1\", 100.0));\n",
    "constraints.add(false);\n",
    "featureBoundaries.add(new FeatureBoundary(0.0, 1000.0));\n",
    "features.add(FeatureFactory.newNumericalFeature(\"f-num2\", 150.0));\n",
    "constraints.add(false);\n",
    "featureBoundaries.add(new FeatureBoundary(0.0, 1000.0));\n",
    "features.add(FeatureFactory.newNumericalFeature(\"f-num3\", 1.0));\n",
    "constraints.add(false);\n",
    "featureBoundaries.add(new FeatureBoundary(0.0, 1000.0));\n",
    "features.add(FeatureFactory.newNumericalFeature(\"f-num4\", 2.0));\n",
    "constraints.add(false);\n",
    "featureBoundaries.add(new FeatureBoundary(0.0, 1000.0));\n",
    "\n",
    "final DataBoundaries dataBoundaries = new DataBoundaries(featureBoundaries);\n",
    "CounterfactualExplainer counterfactualExplainer = new CounterfactualExplainer(dataBoundaries, constraints, goal, 5L, 70, 5000);\n",
    "\n",
    "final double center = 500.0;\n",
    "final double epsilon = 10.0;\n",
    "PredictionInput input = new PredictionInput(features);\n",
    "PredictionProvider model = TestUtils.getSumThresholdModel(center, epsilon);\n",
    "PredictionOutput output = model.predictAsync(List.of(input))\n",
    "        .get(Config.INSTANCE.getAsyncTimeout(), Config.INSTANCE.getAsyncTimeUnit())\n",
    "        .get(0);\n",
    "Prediction prediction = new Prediction(input, output);\n",
    "List<CounterfactualEntity> counterfactualEntities = counterfactualExplainer.explainAsync(prediction, model)\n",
    "        .get(predictionTimeOut, predictionTimeUnit);\n",
    "\n",
    "double totalSum = 0;\n",
    "for (CounterfactualEntity entity : counterfactualEntities) {\n",
    "    totalSum += entity.asFeature().getValue().asNumber();\n",
    "    System.out.println(entity);\n",
    "}"
   ]
  },
  {
   "cell_type": "code",
   "execution_count": null,
   "metadata": {},
   "outputs": [],
   "source": []
  }
 ],
 "metadata": {
  "kernelspec": {
   "display_name": "Java",
   "language": "java",
   "name": "java"
  },
  "language_info": {
   "codemirror_mode": "java",
   "file_extension": ".jshell",
   "mimetype": "text/x-java-source",
   "name": "Java",
   "pygments_lexer": "java",
   "version": "11.0.8+10"
  }
 },
 "nbformat": 4,
 "nbformat_minor": 4
}
