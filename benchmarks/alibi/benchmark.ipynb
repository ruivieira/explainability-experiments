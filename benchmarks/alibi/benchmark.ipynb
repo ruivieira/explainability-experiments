{
 "cells": [
  {
   "cell_type": "markdown",
   "id": "leading-collar",
   "metadata": {},
   "source": [
    "# Counterfactuals benchmark\n",
    "\n",
    "## Data and model\n",
    "\n",
    "This counterfactual benchmark will use a model for a loan approval generated in the [benchmark models repository](https://github.com/ruivieira/benchmark-models/tree/main/minimal-numerical).\n",
    "\n",
    "The model is a minimal classification model with numerical-only input features.\n",
    "\n",
    "The input features are:\n",
    "\n",
    "- Age\n",
    "- Debt\n",
    "- Years employed\n",
    "- Income\n",
    "\n",
    "The classification label is a binary `0,1` corresponding to not approved and approved."
   ]
  },
  {
   "cell_type": "code",
   "execution_count": 69,
   "id": "assumed-armenia",
   "metadata": {},
   "outputs": [],
   "source": [
    "from joblib import load\n",
    "from alibi.explainers import CounterFactual\n",
    "import pandas as pd\n",
    "import tensorflow as tf\n",
    "import numpy as np\n",
    "import matplotlib.pyplot as plt\n",
    "\n",
    "tf.compat.v1.disable_eager_execution()\n",
    "tf.compat.v1.disable_v2_behavior() # disable TF2 behaviour as alibi code still relies on TF1 constructs"
   ]
  },
  {
   "cell_type": "code",
   "execution_count": 70,
   "id": "pressed-drove",
   "metadata": {},
   "outputs": [],
   "source": [
    "clf = load(\"models/model.joblib\")"
   ]
  },
  {
   "cell_type": "code",
   "execution_count": 71,
   "id": "athletic-mason",
   "metadata": {},
   "outputs": [],
   "source": [
    "predict_fn = lambda x: clf.predict_proba(x)"
   ]
  },
  {
   "cell_type": "code",
   "execution_count": 72,
   "id": "sufficient-replica",
   "metadata": {},
   "outputs": [
    {
     "name": "stdout",
     "output_type": "stream",
     "text": [
      "(1, 4)\n"
     ]
    }
   ],
   "source": [
    "shape = (1,4)\n",
    "print(shape)"
   ]
  },
  {
   "cell_type": "markdown",
   "id": "following-benjamin",
   "metadata": {},
   "source": [
    "## Search with defaults\n",
    "\n",
    "We will use the following values:\n",
    "\n",
    "- `feature_range`, the feature ranges can be extracted from the training data[^1]\n",
    "\n",
    "[^1]: https://github.com/ruivieira/benchmark-models/blob/main/minimal-numerical/notebooks/01-data-exploration.ipynb"
   ]
  },
  {
   "cell_type": "code",
   "execution_count": 73,
   "id": "opened-entrance",
   "metadata": {},
   "outputs": [],
   "source": [
    "explainer = CounterFactual(predict_fn, \n",
    "                           feature_range=([18.0,1.0,0.0,0.0], [80.0, 7.0, 30.0, 300.0]),\n",
    "                           shape=shape, \n",
    "                           target_class=[1], \n",
    "                           target_proba=0.6,\n",
    "                           learning_rate_init=1.0, # default 0.1,\n",
    "                           eps=1.0,\n",
    "                           early_stop=200,\n",
    "                           tol=0.09)"
   ]
  },
  {
   "cell_type": "code",
   "execution_count": 74,
   "id": "pharmaceutical-corps",
   "metadata": {},
   "outputs": [
    {
     "data": {
      "text/plain": [
       "array([[ 21. ,   3.5,   5. , 100. ]])"
      ]
     },
     "execution_count": 74,
     "metadata": {},
     "output_type": "execute_result"
    }
   ],
   "source": [
    "df = np.array([21.0, 3.5, 5.0, 100]).reshape(1, -1)\n",
    "df"
   ]
  },
  {
   "cell_type": "code",
   "execution_count": 75,
   "id": "aerial-federal",
   "metadata": {},
   "outputs": [
    {
     "name": "stdout",
     "output_type": "stream",
     "text": [
      "[[0.6 0.4]]\n",
      "[0]\n"
     ]
    }
   ],
   "source": [
    "print(predict_fn(df))\n",
    "print(clf.predict(df))"
   ]
  },
  {
   "cell_type": "code",
   "execution_count": 76,
   "id": "electoral-beast",
   "metadata": {},
   "outputs": [],
   "source": [
    "p = [(score, predict_fn(np.array([21.0, score, 5.0, 100]).reshape(1, -1))[0][1]) for score in np.linspace(0.0, 7.0, num=100)]"
   ]
  },
  {
   "cell_type": "code",
   "execution_count": 77,
   "id": "polar-statistics",
   "metadata": {},
   "outputs": [
    {
     "data": {
      "text/plain": [
       "[<matplotlib.lines.Line2D at 0x182298d30>]"
      ]
     },
     "execution_count": 77,
     "metadata": {},
     "output_type": "execute_result"
    },
    {
     "data": {
      "image/png": "[encoded data removed]",
      "text/plain": [
       "<Figure size 432x288 with 1 Axes>"
      ]
     },
     "metadata": {
      "needs_background": "light"
     },
     "output_type": "display_data"
    }
   ],
   "source": [
    "plt.plot([x[0] for x in p], [y[1] for y in p])"
   ]
  },
  {
   "cell_type": "code",
   "execution_count": 78,
   "id": "attempted-beverage",
   "metadata": {},
   "outputs": [],
   "source": [
    "cf = explainer.explain(df)"
   ]
  },
  {
   "cell_type": "code",
   "execution_count": 84,
   "id": "reasonable-diving",
   "metadata": {},
   "outputs": [
    {
     "data": {
      "text/plain": [
       "{'shape': (1, 4),\n",
       " 'distance_fn': 'l1',\n",
       " 'target_proba': 0.6,\n",
       " 'target_class': [1],\n",
       " 'max_iter': 1000,\n",
       " 'early_stop': 200,\n",
       " 'lam_init': 0.1,\n",
       " 'max_lam_steps': 10,\n",
       " 'tol': 0.09,\n",
       " 'learning_rate_init': 1.0,\n",
       " 'eps': 1.0,\n",
       " 'init': 'identity',\n",
       " 'decay': True,\n",
       " 'write_dir': None,\n",
       " 'debug': False,\n",
       " 'feature_range': ([18.0, 1.0, 0.0, 0.0], [80.0, 7.0, 30.0, 300.0]),\n",
       " 'is_model': False,\n",
       " 'is_keras': False}"
      ]
     },
     "execution_count": 84,
     "metadata": {},
     "output_type": "execute_result"
    }
   ],
   "source": [
    "cf['params']"
   ]
  },
  {
   "cell_type": "code",
   "execution_count": 85,
   "id": "attractive-chance",
   "metadata": {},
   "outputs": [
    {
     "name": "stdout",
     "output_type": "stream",
     "text": [
      "[[ 21.001236    4.2502303   5.0023284 100.       ]]\n",
      "diff:  [[0.00123596 0.75023031 0.0023284  0.        ]]\n"
     ]
    }
   ],
   "source": [
    "print(cf.data['cf']['X'])\n",
    "print(\"diff: \", cf.data['cf']['X'] - df)"
   ]
  },
  {
   "cell_type": "code",
   "execution_count": 88,
   "id": "opening-apparel",
   "metadata": {},
   "outputs": [
    {
     "data": {
      "text/plain": [
       "0.7502349435969725"
      ]
     },
     "execution_count": 88,
     "metadata": {},
     "output_type": "execute_result"
    }
   ],
   "source": [
    "np.linalg.norm(cf.data['cf']['X'] - df)"
   ]
  },
  {
   "cell_type": "code",
   "execution_count": 87,
   "id": "determined-imagination",
   "metadata": {},
   "outputs": [
    {
     "data": {
      "text/plain": [
       "array([[0.4, 0.6]])"
      ]
     },
     "execution_count": 87,
     "metadata": {},
     "output_type": "execute_result"
    }
   ],
   "source": [
    "predict_fn(cf.data['cf']['X'])"
   ]
  },
  {
   "cell_type": "markdown",
   "id": "following-undergraduate",
   "metadata": {},
   "source": [
    "# DiCE counterfactuals"
   ]
  },
  {
   "cell_type": "code",
   "execution_count": null,
   "id": "educated-territory",
   "metadata": {},
   "outputs": [],
   "source": [
    "import dice_ml\n",
    "from dice_ml.utils import helpers # helper functions"
   ]
  },
  {
   "cell_type": "markdown",
   "id": "pleasant-champagne",
   "metadata": {},
   "source": [
    "Although DiCE can use the original training data, to generate counterfactuals we can simply use the dataset's metadata along with the feature domain.\n",
    "The domains are available in the original model's [documentation](https://github.com/ruivieira/benchmark-models/tree/main/minimal-numerical)."
   ]
  },
  {
   "cell_type": "code",
   "execution_count": null,
   "id": "korean-conducting",
   "metadata": {},
   "outputs": [],
   "source": [
    "features = {\n",
    "    'Age': [13, 81],\n",
    "    'Debt': [0, 27],\n",
    "    'YearsEmployed': [0, 20],\n",
    "    'Income': [0, 10000]}\n",
    "\n",
    "d = dice_ml.data.Data(features=features, outcome_name='Approved')"
   ]
  },
  {
   "cell_type": "code",
   "execution_count": null,
   "id": "prospective-canadian",
   "metadata": {},
   "outputs": [],
   "source": [
    "from dice_ml.model_interfaces import klearn_model\n",
    "\n",
    "m = dice_ml.model.Model(model=clf, backend={\"model\": \"sklearn_model.SklearnModel\", \"explainer\": \"dice_sklearn.DiceSklearn\"})"
   ]
  },
  {
   "cell_type": "code",
   "execution_count": null,
   "id": "municipal-bankruptcy",
   "metadata": {},
   "outputs": [],
   "source": [
    "# df = np.array([21.0, 0.1, 0.1, 100]).reshape(1, -1)\n",
    "query = {'Age': 21, 'Debt': 0.1, 'YearsEmployed': 0.1, 'Income': 100}"
   ]
  },
  {
   "cell_type": "code",
   "execution_count": null,
   "id": "vanilla-think",
   "metadata": {},
   "outputs": [],
   "source": [
    "exp = dice_ml.Dice(d, m)"
   ]
  },
  {
   "cell_type": "code",
   "execution_count": null,
   "id": "gothic-technical",
   "metadata": {},
   "outputs": [],
   "source": [
    "dice_exp = dice_ml.generate_counterfactuals(query,\n",
    "                total_CFs=4, desired_class=\"1\",\n",
    "                proximity_weight=1.5, diversity_weight=1.0)"
   ]
  },
  {
   "cell_type": "code",
   "execution_count": null,
   "id": "moving-hygiene",
   "metadata": {},
   "outputs": [],
   "source": []
  }
 ],
 "metadata": {
  "kernelspec": {
   "display_name": "alibi",
   "language": "python",
   "name": "alibi"
  },
  "language_info": {
   "codemirror_mode": {
    "name": "ipython",
    "version": 3
   },
   "file_extension": ".py",
   "mimetype": "text/x-python",
   "name": "python",
   "nbconvert_exporter": "python",
   "pygments_lexer": "ipython3",
   "version": "3.8.0"
  }
 },
 "nbformat": 4,
 "nbformat_minor": 5
}
